{
 "cells": [
  {
   "cell_type": "markdown",
   "id": "2a6549b6",
   "metadata": {},
   "source": [
    "# House Prices - Practice Feature Engineering"
   ]
  },
  {
   "cell_type": "markdown",
   "id": "8dd298e2",
   "metadata": {},
   "source": [
    "In this project, we will work on the Kaggle House Prices Competition which uses the Ames Housing dataset, compiled by Dean De Cock for use in data science education:\n",
    "\n",
    "https://www.kaggle.com/c/house-prices-advanced-regression-techniques/overview\n",
    "\n",
    "This dataset with 79 explanatory variables provides a great opportunity to practice some of the feature engineering techniques we have learned. The goal of the competition is to predict the sales price for each house. The submissions are evaluated on Root-Mean-Squared-Error (RMSE) between the logarithm of the predicted value and the logarithm of the observed sales price.  "
   ]
  },
  {
   "cell_type": "markdown",
   "id": "3333a05e",
   "metadata": {},
   "source": [
    "## Data Acquisition"
   ]
  },
  {
   "cell_type": "code",
   "execution_count": 1,
   "id": "59718cbd",
   "metadata": {},
   "outputs": [
    {
     "name": "stdout",
     "output_type": "stream",
     "text": [
      "Train data shape: (1460, 81)\n",
      "Test data shape: (1459, 80)\n"
     ]
    }
   ],
   "source": [
    "import pandas as pd\n",
    "import numpy as np\n",
    "train = pd.read_csv('train.csv')\n",
    "test = pd.read_csv('test.csv')\n",
    "print (\"Train data shape:\", train.shape)\n",
    "print (\"Test data shape:\", test.shape)"
   ]
  },
  {
   "cell_type": "markdown",
   "id": "4a4552ba",
   "metadata": {},
   "source": [
    "As seen, the data provided on Kaggle has been divided into 2 parts of about equal sizes for training and test data. Test data does not include the final sale price columns, which is the feature we are trying to predict."
   ]
  },
  {
   "cell_type": "code",
   "execution_count": 2,
   "id": "5bc83231",
   "metadata": {},
   "outputs": [
    {
     "data": {
      "text/html": [
       "<div>\n",
       "<style scoped>\n",
       "    .dataframe tbody tr th:only-of-type {\n",
       "        vertical-align: middle;\n",
       "    }\n",
       "\n",
       "    .dataframe tbody tr th {\n",
       "        vertical-align: top;\n",
       "    }\n",
       "\n",
       "    .dataframe thead th {\n",
       "        text-align: right;\n",
       "    }\n",
       "</style>\n",
       "<table border=\"1\" class=\"dataframe\">\n",
       "  <thead>\n",
       "    <tr style=\"text-align: right;\">\n",
       "      <th></th>\n",
       "      <th>Id</th>\n",
       "      <th>MSSubClass</th>\n",
       "      <th>MSZoning</th>\n",
       "      <th>LotFrontage</th>\n",
       "      <th>LotArea</th>\n",
       "      <th>Street</th>\n",
       "      <th>Alley</th>\n",
       "      <th>LotShape</th>\n",
       "      <th>LandContour</th>\n",
       "      <th>Utilities</th>\n",
       "      <th>...</th>\n",
       "      <th>PoolArea</th>\n",
       "      <th>PoolQC</th>\n",
       "      <th>Fence</th>\n",
       "      <th>MiscFeature</th>\n",
       "      <th>MiscVal</th>\n",
       "      <th>MoSold</th>\n",
       "      <th>YrSold</th>\n",
       "      <th>SaleType</th>\n",
       "      <th>SaleCondition</th>\n",
       "      <th>SalePrice</th>\n",
       "    </tr>\n",
       "  </thead>\n",
       "  <tbody>\n",
       "    <tr>\n",
       "      <th>0</th>\n",
       "      <td>1</td>\n",
       "      <td>60</td>\n",
       "      <td>RL</td>\n",
       "      <td>65.0</td>\n",
       "      <td>8450</td>\n",
       "      <td>Pave</td>\n",
       "      <td>NaN</td>\n",
       "      <td>Reg</td>\n",
       "      <td>Lvl</td>\n",
       "      <td>AllPub</td>\n",
       "      <td>...</td>\n",
       "      <td>0</td>\n",
       "      <td>NaN</td>\n",
       "      <td>NaN</td>\n",
       "      <td>NaN</td>\n",
       "      <td>0</td>\n",
       "      <td>2</td>\n",
       "      <td>2008</td>\n",
       "      <td>WD</td>\n",
       "      <td>Normal</td>\n",
       "      <td>208500</td>\n",
       "    </tr>\n",
       "    <tr>\n",
       "      <th>1</th>\n",
       "      <td>2</td>\n",
       "      <td>20</td>\n",
       "      <td>RL</td>\n",
       "      <td>80.0</td>\n",
       "      <td>9600</td>\n",
       "      <td>Pave</td>\n",
       "      <td>NaN</td>\n",
       "      <td>Reg</td>\n",
       "      <td>Lvl</td>\n",
       "      <td>AllPub</td>\n",
       "      <td>...</td>\n",
       "      <td>0</td>\n",
       "      <td>NaN</td>\n",
       "      <td>NaN</td>\n",
       "      <td>NaN</td>\n",
       "      <td>0</td>\n",
       "      <td>5</td>\n",
       "      <td>2007</td>\n",
       "      <td>WD</td>\n",
       "      <td>Normal</td>\n",
       "      <td>181500</td>\n",
       "    </tr>\n",
       "    <tr>\n",
       "      <th>2</th>\n",
       "      <td>3</td>\n",
       "      <td>60</td>\n",
       "      <td>RL</td>\n",
       "      <td>68.0</td>\n",
       "      <td>11250</td>\n",
       "      <td>Pave</td>\n",
       "      <td>NaN</td>\n",
       "      <td>IR1</td>\n",
       "      <td>Lvl</td>\n",
       "      <td>AllPub</td>\n",
       "      <td>...</td>\n",
       "      <td>0</td>\n",
       "      <td>NaN</td>\n",
       "      <td>NaN</td>\n",
       "      <td>NaN</td>\n",
       "      <td>0</td>\n",
       "      <td>9</td>\n",
       "      <td>2008</td>\n",
       "      <td>WD</td>\n",
       "      <td>Normal</td>\n",
       "      <td>223500</td>\n",
       "    </tr>\n",
       "    <tr>\n",
       "      <th>3</th>\n",
       "      <td>4</td>\n",
       "      <td>70</td>\n",
       "      <td>RL</td>\n",
       "      <td>60.0</td>\n",
       "      <td>9550</td>\n",
       "      <td>Pave</td>\n",
       "      <td>NaN</td>\n",
       "      <td>IR1</td>\n",
       "      <td>Lvl</td>\n",
       "      <td>AllPub</td>\n",
       "      <td>...</td>\n",
       "      <td>0</td>\n",
       "      <td>NaN</td>\n",
       "      <td>NaN</td>\n",
       "      <td>NaN</td>\n",
       "      <td>0</td>\n",
       "      <td>2</td>\n",
       "      <td>2006</td>\n",
       "      <td>WD</td>\n",
       "      <td>Abnorml</td>\n",
       "      <td>140000</td>\n",
       "    </tr>\n",
       "    <tr>\n",
       "      <th>4</th>\n",
       "      <td>5</td>\n",
       "      <td>60</td>\n",
       "      <td>RL</td>\n",
       "      <td>84.0</td>\n",
       "      <td>14260</td>\n",
       "      <td>Pave</td>\n",
       "      <td>NaN</td>\n",
       "      <td>IR1</td>\n",
       "      <td>Lvl</td>\n",
       "      <td>AllPub</td>\n",
       "      <td>...</td>\n",
       "      <td>0</td>\n",
       "      <td>NaN</td>\n",
       "      <td>NaN</td>\n",
       "      <td>NaN</td>\n",
       "      <td>0</td>\n",
       "      <td>12</td>\n",
       "      <td>2008</td>\n",
       "      <td>WD</td>\n",
       "      <td>Normal</td>\n",
       "      <td>250000</td>\n",
       "    </tr>\n",
       "  </tbody>\n",
       "</table>\n",
       "<p>5 rows × 81 columns</p>\n",
       "</div>"
      ],
      "text/plain": [
       "   Id  MSSubClass MSZoning  LotFrontage  LotArea Street Alley LotShape  \\\n",
       "0   1          60       RL         65.0     8450   Pave   NaN      Reg   \n",
       "1   2          20       RL         80.0     9600   Pave   NaN      Reg   \n",
       "2   3          60       RL         68.0    11250   Pave   NaN      IR1   \n",
       "3   4          70       RL         60.0     9550   Pave   NaN      IR1   \n",
       "4   5          60       RL         84.0    14260   Pave   NaN      IR1   \n",
       "\n",
       "  LandContour Utilities  ... PoolArea PoolQC Fence MiscFeature MiscVal MoSold  \\\n",
       "0         Lvl    AllPub  ...        0    NaN   NaN         NaN       0      2   \n",
       "1         Lvl    AllPub  ...        0    NaN   NaN         NaN       0      5   \n",
       "2         Lvl    AllPub  ...        0    NaN   NaN         NaN       0      9   \n",
       "3         Lvl    AllPub  ...        0    NaN   NaN         NaN       0      2   \n",
       "4         Lvl    AllPub  ...        0    NaN   NaN         NaN       0     12   \n",
       "\n",
       "  YrSold  SaleType  SaleCondition  SalePrice  \n",
       "0   2008        WD         Normal     208500  \n",
       "1   2007        WD         Normal     181500  \n",
       "2   2008        WD         Normal     223500  \n",
       "3   2006        WD        Abnorml     140000  \n",
       "4   2008        WD         Normal     250000  \n",
       "\n",
       "[5 rows x 81 columns]"
      ]
     },
     "execution_count": 2,
     "metadata": {},
     "output_type": "execute_result"
    }
   ],
   "source": [
    "train.head()"
   ]
  },
  {
   "cell_type": "markdown",
   "id": "188ebab0",
   "metadata": {},
   "source": [
    "We can already see from the data that most of the features are complete, i.e. do not include any null values. The information on these features are provided on the competition website in the data_description.txt file. Some of the features and their keys are defined as:"
   ]
  },
  {
   "cell_type": "markdown",
   "id": "0a98ef43",
   "metadata": {},
   "source": [
    "| Variable | Definition | Key |\n",
    "| :- | :- | :- |\n",
    "| Street | Type of road access to property | Grvl = Gravel, Pave = Paved |\n",
    "| OverallQual | Rates the overall material and finish of the house | 1 (very poor) to 10 (very excellent) |\n",
    "| YearBuilt | Original construction date |\n",
    "| TotRmsAbvGrd | Total rooms above grade (does not include bathrooms)\n",
    "| GarageCars | Size of garage in car capacity |"
   ]
  },
  {
   "cell_type": "markdown",
   "id": "0afa99f1",
   "metadata": {},
   "source": [
    "## Target Data Transformation"
   ]
  },
  {
   "cell_type": "code",
   "execution_count": 3,
   "id": "06e9e8bc",
   "metadata": {},
   "outputs": [
    {
     "data": {
      "text/plain": [
       "count      1460.000000\n",
       "mean     180921.195890\n",
       "std       79442.502883\n",
       "min       34900.000000\n",
       "25%      129975.000000\n",
       "50%      163000.000000\n",
       "75%      214000.000000\n",
       "max      755000.000000\n",
       "Name: SalePrice, dtype: float64"
      ]
     },
     "execution_count": 3,
     "metadata": {},
     "output_type": "execute_result"
    }
   ],
   "source": [
    "train.SalePrice.describe()"
   ]
  },
  {
   "cell_type": "markdown",
   "id": "d6f40d5b",
   "metadata": {},
   "source": [
    "Looking at the skewness, we can see that the distribution has a longer tail on the right meaning it is positively skewed:"
   ]
  },
  {
   "cell_type": "code",
   "execution_count": 4,
   "id": "7a9e878e",
   "metadata": {},
   "outputs": [
    {
     "name": "stdout",
     "output_type": "stream",
     "text": [
      "Skew is: 1.8828757597682129\n"
     ]
    },
    {
     "data": {
      "image/png": "[encoded data removed]",
      "text/plain": [
       "<Figure size 720x432 with 1 Axes>"
      ]
     },
     "metadata": {},
     "output_type": "display_data"
    }
   ],
   "source": [
    "import matplotlib.pyplot as plt\n",
    "plt.style.use(style='ggplot')\n",
    "plt.rcParams['figure.figsize'] = (10, 6)\n",
    "\n",
    "print (\"Skew is:\", train.SalePrice.skew())\n",
    "plt.hist(train.SalePrice, color='blue')\n",
    "plt.show()"
   ]
  },
  {
   "cell_type": "markdown",
   "id": "fc4c0b9d",
   "metadata": {},
   "source": [
    "In order to lower the skewness and get the data closer to normal distribution, which is more suitable for use with linear regression, we will transform the Sale Price using the logarithm function:"
   ]
  },
  {
   "cell_type": "code",
   "execution_count": 5,
   "id": "982003dc",
   "metadata": {},
   "outputs": [
    {
     "name": "stdout",
     "output_type": "stream",
     "text": [
      "Skew is: 0.12133506220520406\n"
     ]
    },
    {
     "data": {
      "image/png": "[encoded data removed]",
      "text/plain": [
       "<Figure size 720x432 with 1 Axes>"
      ]
     },
     "metadata": {},
     "output_type": "display_data"
    }
   ],
   "source": [
    "target = np.log(train.SalePrice)\n",
    "print (\"Skew is:\", target.skew())\n",
    "plt.hist(target, color='blue')\n",
    "plt.show()"
   ]
  },
  {
   "cell_type": "markdown",
   "id": "2f3f24c0",
   "metadata": {},
   "source": [
    "As seen, the skewness is lowered to about 0.12, which is a lot closer to normal distribution, which would have 0 skewness."
   ]
  },
  {
   "cell_type": "markdown",
   "id": "7850b60c",
   "metadata": {},
   "source": [
    "## Numerical Features"
   ]
  },
  {
   "cell_type": "code",
   "execution_count": 6,
   "id": "6d4d165d",
   "metadata": {},
   "outputs": [
    {
     "name": "stdout",
     "output_type": "stream",
     "text": [
      "<class 'pandas.core.frame.DataFrame'>\n",
      "RangeIndex: 1460 entries, 0 to 1459\n",
      "Data columns (total 38 columns):\n",
      " #   Column         Non-Null Count  Dtype  \n",
      "---  ------         --------------  -----  \n",
      " 0   Id             1460 non-null   int64  \n",
      " 1   MSSubClass     1460 non-null   int64  \n",
      " 2   LotFrontage    1201 non-null   float64\n",
      " 3   LotArea        1460 non-null   int64  \n",
      " 4   OverallQual    1460 non-null   int64  \n",
      " 5   OverallCond    1460 non-null   int64  \n",
      " 6   YearBuilt      1460 non-null   int64  \n",
      " 7   YearRemodAdd   1460 non-null   int64  \n",
      " 8   MasVnrArea     1452 non-null   float64\n",
      " 9   BsmtFinSF1     1460 non-null   int64  \n",
      " 10  BsmtFinSF2     1460 non-null   int64  \n",
      " 11  BsmtUnfSF      1460 non-null   int64  \n",
      " 12  TotalBsmtSF    1460 non-null   int64  \n",
      " 13  1stFlrSF       1460 non-null   int64  \n",
      " 14  2ndFlrSF       1460 non-null   int64  \n",
      " 15  LowQualFinSF   1460 non-null   int64  \n",
      " 16  GrLivArea      1460 non-null   int64  \n",
      " 17  BsmtFullBath   1460 non-null   int64  \n",
      " 18  BsmtHalfBath   1460 non-null   int64  \n",
      " 19  FullBath       1460 non-null   int64  \n",
      " 20  HalfBath       1460 non-null   int64  \n",
      " 21  BedroomAbvGr   1460 non-null   int64  \n",
      " 22  KitchenAbvGr   1460 non-null   int64  \n",
      " 23  TotRmsAbvGrd   1460 non-null   int64  \n",
      " 24  Fireplaces     1460 non-null   int64  \n",
      " 25  GarageYrBlt    1379 non-null   float64\n",
      " 26  GarageCars     1460 non-null   int64  \n",
      " 27  GarageArea     1460 non-null   int64  \n",
      " 28  WoodDeckSF     1460 non-null   int64  \n",
      " 29  OpenPorchSF    1460 non-null   int64  \n",
      " 30  EnclosedPorch  1460 non-null   int64  \n",
      " 31  3SsnPorch      1460 non-null   int64  \n",
      " 32  ScreenPorch    1460 non-null   int64  \n",
      " 33  PoolArea       1460 non-null   int64  \n",
      " 34  MiscVal        1460 non-null   int64  \n",
      " 35  MoSold         1460 non-null   int64  \n",
      " 36  YrSold         1460 non-null   int64  \n",
      " 37  SalePrice      1460 non-null   int64  \n",
      "dtypes: float64(3), int64(35)\n",
      "memory usage: 433.6 KB\n"
     ]
    }
   ],
   "source": [
    "numeric_features = train.select_dtypes(include=[np.number])\n",
    "numeric_features.info()"
   ]
  },
  {
   "cell_type": "markdown",
   "id": "63f0f28f",
   "metadata": {},
   "source": [
    "We can see that about half of the features (37 out of 79) are numerical, which allows us to check the correlation with the sale price:"
   ]
  },
  {
   "cell_type": "code",
   "execution_count": 7,
   "id": "78bd9b2e",
   "metadata": {},
   "outputs": [
    {
     "name": "stdout",
     "output_type": "stream",
     "text": [
      "SalePrice      1.000000\n",
      "OverallQual    0.790982\n",
      "GrLivArea      0.708624\n",
      "GarageCars     0.640409\n",
      "GarageArea     0.623431\n",
      "Name: SalePrice, dtype: float64 \n",
      "\n",
      "YrSold          -0.028923\n",
      "OverallCond     -0.077856\n",
      "MSSubClass      -0.084284\n",
      "EnclosedPorch   -0.128578\n",
      "KitchenAbvGr    -0.135907\n",
      "Name: SalePrice, dtype: float64\n"
     ]
    }
   ],
   "source": [
    "corr = numeric_features.corr()\n",
    "print (corr['SalePrice'].sort_values(ascending=False)[:5], '\\n')\n",
    "print (corr['SalePrice'].sort_values(ascending=False)[-5:])"
   ]
  },
  {
   "cell_type": "markdown",
   "id": "f837d965",
   "metadata": {},
   "source": [
    "We can see that OverallQual has the highest correlation with Sale Price. In the data description, we see that this feature can have integer values between 1-10:"
   ]
  },
  {
   "cell_type": "markdown",
   "id": "283af92f",
   "metadata": {},
   "source": [
    "OverallQual: Rates the overall material and finish of the house\n",
    "\n",
    "       10\tVery Excellent\n",
    "       9\tExcellent\n",
    "       8\tVery Good\n",
    "       7\tGood\n",
    "       6\tAbove Average\n",
    "       5\tAverage\n",
    "       4\tBelow Average\n",
    "       3\tFair\n",
    "       2\tPoor\n",
    "       1\tVery Poor"
   ]
  },
  {
   "cell_type": "code",
   "execution_count": 8,
   "id": "564aa433",
   "metadata": {},
   "outputs": [
    {
     "data": {
      "image/png": "[encoded data removed]",
      "text/plain": [
       "<Figure size 720x432 with 1 Axes>"
      ]
     },
     "metadata": {},
     "output_type": "display_data"
    }
   ],
   "source": [
    "quality_pivot = train.pivot_table(index='OverallQual',\n",
    "                  values='SalePrice', aggfunc=np.median)\n",
    "quality_pivot.plot(kind='bar', color='blue')\n",
    "plt.xlabel('Overall Quality')\n",
    "plt.ylabel('Median Sale Price')\n",
    "plt.xticks(rotation=0)\n",
    "plt.show()"
   ]
  },
  {
   "cell_type": "markdown",
   "id": "6d985338",
   "metadata": {},
   "source": [
    "The plot confirms the positive correlation as we can see that the median price increases with the overall quality."
   ]
  },
  {
   "cell_type": "markdown",
   "id": "7adb8fee",
   "metadata": {},
   "source": [
    "The next best correlated feature is the GrLivArea which is the above grade (ground) living area in square feet:"
   ]
  },
  {
   "cell_type": "code",
   "execution_count": 9,
   "id": "796b96d5",
   "metadata": {},
   "outputs": [
    {
     "data": {
      "image/png": "[encoded data removed]",
      "text/plain": [
       "<Figure size 720x432 with 1 Axes>"
      ]
     },
     "metadata": {},
     "output_type": "display_data"
    }
   ],
   "source": [
    "plt.scatter(x=train['GrLivArea'], y=target)\n",
    "plt.ylabel('Sale Price')\n",
    "plt.xlabel('Living area in square feet')\n",
    "plt.show()"
   ]
  },
  {
   "cell_type": "markdown",
   "id": "d548cc0e",
   "metadata": {},
   "source": [
    "Except for a few outliers, we see that the sale price increases linearly as the living area increases. The same study can be carried out for garage area:"
   ]
  },
  {
   "cell_type": "code",
   "execution_count": 10,
   "id": "f968272c",
   "metadata": {},
   "outputs": [
    {
     "data": {
      "image/png": "[encoded data removed]",
      "text/plain": [
       "<Figure size 720x432 with 1 Axes>"
      ]
     },
     "metadata": {},
     "output_type": "display_data"
    }
   ],
   "source": [
    "plt.scatter(x=train['GarageArea'], y=target)\n",
    "plt.ylabel('Sale Price')\n",
    "plt.xlabel('Garage area in square feet')\n",
    "plt.show()"
   ]
  },
  {
   "cell_type": "markdown",
   "id": "21aacd24",
   "metadata": {},
   "source": [
    "As seen, there are many houses with 0 garage area, meaning they do not have any garage. They cannot be dropped since the information is useful. However we can remove the few outliers that can affect our regression model:"
   ]
  },
  {
   "cell_type": "code",
   "execution_count": 11,
   "id": "dd8f3367",
   "metadata": {},
   "outputs": [],
   "source": [
    "train = train[(train['GrLivArea'] < 4000) & (train['GarageArea'] < 1200)]"
   ]
  },
  {
   "cell_type": "code",
   "execution_count": 12,
   "id": "4e2d1c24",
   "metadata": {},
   "outputs": [
    {
     "data": {
      "image/png": "[encoded data removed]",
      "text/plain": [
       "<Figure size 720x432 with 1 Axes>"
      ]
     },
     "metadata": {},
     "output_type": "display_data"
    }
   ],
   "source": [
    "plt.scatter(x=train['GarageArea'], y=np.log(train.SalePrice))\n",
    "plt.xlim(-200,1600) # This forces the same scale as before\n",
    "plt.ylabel('Sale Price')\n",
    "plt.xlabel('Garage Area')\n",
    "plt.show()"
   ]
  },
  {
   "cell_type": "markdown",
   "id": "7f4786bc",
   "metadata": {},
   "source": [
    "As seen, we have removed a total of 8 outliers from the training dataset:"
   ]
  },
  {
   "cell_type": "code",
   "execution_count": 13,
   "id": "11d35d73",
   "metadata": {},
   "outputs": [
    {
     "data": {
      "text/plain": [
       "1452"
      ]
     },
     "execution_count": 13,
     "metadata": {},
     "output_type": "execute_result"
    }
   ],
   "source": [
    "len(train['SalePrice'])"
   ]
  },
  {
   "cell_type": "markdown",
   "id": "d1963028",
   "metadata": {},
   "source": [
    "Lastly, we can fill the 3 columns with missing values with the most common value in that column:"
   ]
  },
  {
   "cell_type": "code",
   "execution_count": 14,
   "id": "de9d005b",
   "metadata": {},
   "outputs": [
    {
     "data": {
      "text/plain": [
       "MasVnrArea       8\n",
       "GarageYrBlt     81\n",
       "LotFrontage    258\n",
       "dtype: int64"
      ]
     },
     "execution_count": 14,
     "metadata": {},
     "output_type": "execute_result"
    }
   ],
   "source": [
    "numeric_features = train.select_dtypes(include=[np.number])\n",
    "num_missing = numeric_features.isnull().sum()\n",
    "fixable_numeric_cols = num_missing[num_missing > 0].sort_values()\n",
    "fixable_numeric_cols"
   ]
  },
  {
   "cell_type": "code",
   "execution_count": 15,
   "id": "655b901d",
   "metadata": {},
   "outputs": [
    {
     "data": {
      "text/plain": [
       "{'MasVnrArea': 0.0, 'GarageYrBlt': 2005.0, 'LotFrontage': 60.0}"
      ]
     },
     "execution_count": 15,
     "metadata": {},
     "output_type": "execute_result"
    }
   ],
   "source": [
    "## Compute the most common value for each column in `fixable_nmeric_missing_cols`.\n",
    "replacement_values_dict = train[fixable_numeric_cols.index].mode().to_dict(orient='records')[0]\n",
    "replacement_values_dict"
   ]
  },
  {
   "cell_type": "code",
   "execution_count": 16,
   "id": "63513809",
   "metadata": {},
   "outputs": [
    {
     "data": {
      "text/plain": [
       "0    38\n",
       "dtype: int64"
      ]
     },
     "execution_count": 16,
     "metadata": {},
     "output_type": "execute_result"
    }
   ],
   "source": [
    "train = train.fillna(replacement_values_dict)\n",
    "## Verify that every column has 0 missing values\n",
    "numeric_features = train.select_dtypes(include=[np.number])\n",
    "numeric_features.isnull().sum().value_counts()"
   ]
  },
  {
   "cell_type": "markdown",
   "id": "c411f32c",
   "metadata": {},
   "source": [
    "This confirms that the 38 numerical features do not have null values any more."
   ]
  },
  {
   "cell_type": "markdown",
   "id": "48e6f9f8",
   "metadata": {},
   "source": [
    "## Non-Numerical Features"
   ]
  },
  {
   "cell_type": "markdown",
   "id": "7a994b35",
   "metadata": {},
   "source": [
    "The remaining non-numeric features have categorical values which are useful in identifying the houses. "
   ]
  },
  {
   "cell_type": "code",
   "execution_count": 17,
   "id": "7c9d28b8",
   "metadata": {},
   "outputs": [
    {
     "data": {
      "text/html": [
       "<div>\n",
       "<style scoped>\n",
       "    .dataframe tbody tr th:only-of-type {\n",
       "        vertical-align: middle;\n",
       "    }\n",
       "\n",
       "    .dataframe tbody tr th {\n",
       "        vertical-align: top;\n",
       "    }\n",
       "\n",
       "    .dataframe thead th {\n",
       "        text-align: right;\n",
       "    }\n",
       "</style>\n",
       "<table border=\"1\" class=\"dataframe\">\n",
       "  <thead>\n",
       "    <tr style=\"text-align: right;\">\n",
       "      <th></th>\n",
       "      <th>MSZoning</th>\n",
       "      <th>Street</th>\n",
       "      <th>Alley</th>\n",
       "      <th>LotShape</th>\n",
       "      <th>LandContour</th>\n",
       "      <th>Utilities</th>\n",
       "      <th>LotConfig</th>\n",
       "      <th>LandSlope</th>\n",
       "      <th>Neighborhood</th>\n",
       "      <th>Condition1</th>\n",
       "      <th>...</th>\n",
       "      <th>GarageType</th>\n",
       "      <th>GarageFinish</th>\n",
       "      <th>GarageQual</th>\n",
       "      <th>GarageCond</th>\n",
       "      <th>PavedDrive</th>\n",
       "      <th>PoolQC</th>\n",
       "      <th>Fence</th>\n",
       "      <th>MiscFeature</th>\n",
       "      <th>SaleType</th>\n",
       "      <th>SaleCondition</th>\n",
       "    </tr>\n",
       "  </thead>\n",
       "  <tbody>\n",
       "    <tr>\n",
       "      <th>count</th>\n",
       "      <td>1452</td>\n",
       "      <td>1452</td>\n",
       "      <td>91</td>\n",
       "      <td>1452</td>\n",
       "      <td>1452</td>\n",
       "      <td>1452</td>\n",
       "      <td>1452</td>\n",
       "      <td>1452</td>\n",
       "      <td>1452</td>\n",
       "      <td>1452</td>\n",
       "      <td>...</td>\n",
       "      <td>1371</td>\n",
       "      <td>1371</td>\n",
       "      <td>1371</td>\n",
       "      <td>1371</td>\n",
       "      <td>1452</td>\n",
       "      <td>5</td>\n",
       "      <td>280</td>\n",
       "      <td>53</td>\n",
       "      <td>1452</td>\n",
       "      <td>1452</td>\n",
       "    </tr>\n",
       "    <tr>\n",
       "      <th>unique</th>\n",
       "      <td>5</td>\n",
       "      <td>2</td>\n",
       "      <td>2</td>\n",
       "      <td>4</td>\n",
       "      <td>4</td>\n",
       "      <td>2</td>\n",
       "      <td>5</td>\n",
       "      <td>3</td>\n",
       "      <td>25</td>\n",
       "      <td>9</td>\n",
       "      <td>...</td>\n",
       "      <td>6</td>\n",
       "      <td>3</td>\n",
       "      <td>5</td>\n",
       "      <td>5</td>\n",
       "      <td>3</td>\n",
       "      <td>3</td>\n",
       "      <td>4</td>\n",
       "      <td>4</td>\n",
       "      <td>9</td>\n",
       "      <td>6</td>\n",
       "    </tr>\n",
       "    <tr>\n",
       "      <th>top</th>\n",
       "      <td>RL</td>\n",
       "      <td>Pave</td>\n",
       "      <td>Grvl</td>\n",
       "      <td>Reg</td>\n",
       "      <td>Lvl</td>\n",
       "      <td>AllPub</td>\n",
       "      <td>Inside</td>\n",
       "      <td>Gtl</td>\n",
       "      <td>NAmes</td>\n",
       "      <td>Norm</td>\n",
       "      <td>...</td>\n",
       "      <td>Attchd</td>\n",
       "      <td>Unf</td>\n",
       "      <td>TA</td>\n",
       "      <td>TA</td>\n",
       "      <td>Y</td>\n",
       "      <td>Fa</td>\n",
       "      <td>MnPrv</td>\n",
       "      <td>Shed</td>\n",
       "      <td>WD</td>\n",
       "      <td>Normal</td>\n",
       "    </tr>\n",
       "    <tr>\n",
       "      <th>freq</th>\n",
       "      <td>1144</td>\n",
       "      <td>1447</td>\n",
       "      <td>50</td>\n",
       "      <td>921</td>\n",
       "      <td>1307</td>\n",
       "      <td>1451</td>\n",
       "      <td>1047</td>\n",
       "      <td>1375</td>\n",
       "      <td>225</td>\n",
       "      <td>1255</td>\n",
       "      <td>...</td>\n",
       "      <td>865</td>\n",
       "      <td>605</td>\n",
       "      <td>1303</td>\n",
       "      <td>1318</td>\n",
       "      <td>1332</td>\n",
       "      <td>2</td>\n",
       "      <td>156</td>\n",
       "      <td>48</td>\n",
       "      <td>1264</td>\n",
       "      <td>1195</td>\n",
       "    </tr>\n",
       "  </tbody>\n",
       "</table>\n",
       "<p>4 rows × 43 columns</p>\n",
       "</div>"
      ],
      "text/plain": [
       "       MSZoning Street Alley LotShape LandContour Utilities LotConfig  \\\n",
       "count      1452   1452    91     1452        1452      1452      1452   \n",
       "unique        5      2     2        4           4         2         5   \n",
       "top          RL   Pave  Grvl      Reg         Lvl    AllPub    Inside   \n",
       "freq       1144   1447    50      921        1307      1451      1047   \n",
       "\n",
       "       LandSlope Neighborhood Condition1  ... GarageType GarageFinish  \\\n",
       "count       1452         1452       1452  ...       1371         1371   \n",
       "unique         3           25          9  ...          6            3   \n",
       "top          Gtl        NAmes       Norm  ...     Attchd          Unf   \n",
       "freq        1375          225       1255  ...        865          605   \n",
       "\n",
       "       GarageQual GarageCond PavedDrive PoolQC  Fence MiscFeature SaleType  \\\n",
       "count        1371       1371       1452      5    280          53     1452   \n",
       "unique          5          5          3      3      4           4        9   \n",
       "top            TA         TA          Y     Fa  MnPrv        Shed       WD   \n",
       "freq         1303       1318       1332      2    156          48     1264   \n",
       "\n",
       "       SaleCondition  \n",
       "count           1452  \n",
       "unique             6  \n",
       "top           Normal  \n",
       "freq            1195  \n",
       "\n",
       "[4 rows x 43 columns]"
      ]
     },
     "execution_count": 17,
     "metadata": {},
     "output_type": "execute_result"
    }
   ],
   "source": [
    "categoricals = train.select_dtypes(exclude=[np.number])\n",
    "categoricals.describe()"
   ]
  },
  {
   "cell_type": "markdown",
   "id": "0e330fb1",
   "metadata": {},
   "source": [
    "We can see that some of the features have a lot of missing values. We can first examine the features with 5% or more missing values:"
   ]
  },
  {
   "cell_type": "code",
   "execution_count": 18,
   "id": "5e647567",
   "metadata": {},
   "outputs": [
    {
     "data": {
      "text/plain": [
       "GarageType        81\n",
       "GarageFinish      81\n",
       "GarageQual        81\n",
       "GarageCond        81\n",
       "FireplaceQu      689\n",
       "Fence           1172\n",
       "Alley           1361\n",
       "MiscFeature     1399\n",
       "PoolQC          1447\n",
       "dtype: int64"
      ]
     },
     "execution_count": 18,
     "metadata": {},
     "output_type": "execute_result"
    }
   ],
   "source": [
    "cat_num_missing = categoricals.isnull().sum()\n",
    "cat_missing_cols = cat_num_missing[(cat_num_missing > len(train)/20)].sort_values()\n",
    "cat_missing_cols"
   ]
  },
  {
   "cell_type": "markdown",
   "id": "e539a9ec",
   "metadata": {},
   "source": [
    "As seen, there are 4 features related to the garage with the same number of missing values. The description for Garage Quality shows that a missing value in these columns indicates no garage:\n",
    "\n",
    "       Ex\tExcellent\n",
    "       Gd\tGood\n",
    "       TA\tTypical/Average\n",
    "       Fa\tFair\n",
    "       Po\tPoor\n",
    "       NA\tNo Garage"
   ]
  },
  {
   "cell_type": "markdown",
   "id": "0dcdb5b4",
   "metadata": {},
   "source": [
    "The missing values for the other features have the same meaning, i.e. no fireplace or pool. So instead of dropping these features, we will fill the missing values with No to provide context."
   ]
  },
  {
   "cell_type": "code",
   "execution_count": 19,
   "id": "1e8504e0",
   "metadata": {},
   "outputs": [
    {
     "data": {
      "text/plain": [
       "Attchd     865\n",
       "Detchd     386\n",
       "BuiltIn     87\n",
       "No          81\n",
       "Basment     19\n",
       "CarPort      9\n",
       "2Types       5\n",
       "Name: GarageType, dtype: int64"
      ]
     },
     "execution_count": 19,
     "metadata": {},
     "output_type": "execute_result"
    }
   ],
   "source": [
    "cat_replace_dict = {}\n",
    "for col in cat_missing_cols.index:\n",
    "    cat_replace_dict[col] = 'No'\n",
    "    \n",
    "train = train.fillna(cat_replace_dict)\n",
    "train['GarageType'].value_counts()"
   ]
  },
  {
   "cell_type": "markdown",
   "id": "4b68402c",
   "metadata": {},
   "source": [
    "The rest of the missing values are:"
   ]
  },
  {
   "cell_type": "code",
   "execution_count": 20,
   "id": "a2394c61",
   "metadata": {},
   "outputs": [
    {
     "data": {
      "text/plain": [
       "Electrical       1\n",
       "MasVnrType       8\n",
       "BsmtQual        37\n",
       "BsmtCond        37\n",
       "BsmtFinType1    37\n",
       "BsmtExposure    38\n",
       "BsmtFinType2    38\n",
       "dtype: int64"
      ]
     },
     "execution_count": 20,
     "metadata": {},
     "output_type": "execute_result"
    }
   ],
   "source": [
    "num_missing = train.isnull().sum()\n",
    "rem_missing_cols = num_missing[num_missing > 0].sort_values()\n",
    "rem_missing_cols"
   ]
  },
  {
   "cell_type": "markdown",
   "id": "cd018b26",
   "metadata": {},
   "source": [
    "The basement features with missing values can be filled with No as previously done:"
   ]
  },
  {
   "cell_type": "code",
   "execution_count": 21,
   "id": "2e360c83",
   "metadata": {},
   "outputs": [],
   "source": [
    "bsmt_missing_cols = rem_missing_cols.drop('Electrical')\n",
    "bsmt_replace_dict = {}\n",
    "for col in bsmt_missing_cols.index:\n",
    "    bsmt_replace_dict[col] = 'No'\n",
    "    \n",
    "train = train.fillna(bsmt_replace_dict)"
   ]
  },
  {
   "cell_type": "markdown",
   "id": "1f5191b4",
   "metadata": {},
   "source": [
    "The 1 row with missing information about 'Electrical' can be dropped:"
   ]
  },
  {
   "cell_type": "code",
   "execution_count": 22,
   "id": "7c46c6be",
   "metadata": {},
   "outputs": [
    {
     "data": {
      "text/plain": [
       "0    81\n",
       "dtype: int64"
      ]
     },
     "execution_count": 22,
     "metadata": {},
     "output_type": "execute_result"
    }
   ],
   "source": [
    "train = train.drop(train[train['Electrical'].isnull()].index)\n",
    "train.isnull().sum().value_counts()"
   ]
  },
  {
   "cell_type": "code",
   "execution_count": 23,
   "id": "495fe48f",
   "metadata": {},
   "outputs": [
    {
     "data": {
      "text/plain": [
       "1451"
      ]
     },
     "execution_count": 23,
     "metadata": {},
     "output_type": "execute_result"
    }
   ],
   "source": [
    "len(train['SalePrice'])"
   ]
  },
  {
   "cell_type": "markdown",
   "id": "c7a955c0",
   "metadata": {},
   "source": [
    "As seen, we now have a training dataset with 1451 sale prices with no missing values. The same data preparation steps need to be applied to the test data."
   ]
  },
  {
   "cell_type": "code",
   "execution_count": 24,
   "id": "463a5f8a",
   "metadata": {},
   "outputs": [
    {
     "data": {
      "text/plain": [
       "BsmtFinSF1        1\n",
       "BsmtFinSF2        1\n",
       "BsmtUnfSF         1\n",
       "TotalBsmtSF       1\n",
       "GarageCars        1\n",
       "GarageArea        1\n",
       "BsmtFullBath      2\n",
       "BsmtHalfBath      2\n",
       "MasVnrArea       15\n",
       "GarageYrBlt      78\n",
       "LotFrontage     227\n",
       "dtype: int64"
      ]
     },
     "execution_count": 24,
     "metadata": {},
     "output_type": "execute_result"
    }
   ],
   "source": [
    "test_numeric_features = test.select_dtypes(include=[np.number])\n",
    "test_num_missing = test_numeric_features.isnull().sum()\n",
    "fixable_numeric_cols = test_num_missing[test_num_missing > 0].sort_values()\n",
    "fixable_numeric_cols"
   ]
  },
  {
   "cell_type": "code",
   "execution_count": 25,
   "id": "108cefbc",
   "metadata": {},
   "outputs": [
    {
     "data": {
      "text/plain": [
       "{'BsmtFinSF1': 0.0,\n",
       " 'BsmtFinSF2': 0.0,\n",
       " 'BsmtUnfSF': 0.0,\n",
       " 'TotalBsmtSF': 0.0,\n",
       " 'GarageCars': 2.0,\n",
       " 'GarageArea': 0.0,\n",
       " 'BsmtFullBath': 0.0,\n",
       " 'BsmtHalfBath': 0.0,\n",
       " 'MasVnrArea': 0.0,\n",
       " 'GarageYrBlt': 2005.0,\n",
       " 'LotFrontage': 60.0}"
      ]
     },
     "execution_count": 25,
     "metadata": {},
     "output_type": "execute_result"
    }
   ],
   "source": [
    "## Compute the most common value for each column in `fixable_numeric_missing_cols`.\n",
    "test_rep_values_dict = test[fixable_numeric_cols.index].mode().to_dict(orient='records')[0]\n",
    "test_rep_values_dict"
   ]
  },
  {
   "cell_type": "code",
   "execution_count": 26,
   "id": "5a9c40c1",
   "metadata": {},
   "outputs": [
    {
     "data": {
      "text/plain": [
       "0    37\n",
       "dtype: int64"
      ]
     },
     "execution_count": 26,
     "metadata": {},
     "output_type": "execute_result"
    }
   ],
   "source": [
    "test = test.fillna(test_rep_values_dict)\n",
    "## Verify that every column has 0 missing values\n",
    "test.select_dtypes(include=[np.number]).isnull().sum().value_counts()"
   ]
  },
  {
   "cell_type": "code",
   "execution_count": 27,
   "id": "2544c2b1",
   "metadata": {},
   "outputs": [
    {
     "data": {
      "text/plain": [
       "MasVnrType        16\n",
       "BsmtFinType1      42\n",
       "BsmtFinType2      42\n",
       "BsmtQual          44\n",
       "BsmtExposure      44\n",
       "BsmtCond          45\n",
       "GarageType        76\n",
       "GarageFinish      78\n",
       "GarageQual        78\n",
       "GarageCond        78\n",
       "FireplaceQu      730\n",
       "Fence           1169\n",
       "Alley           1352\n",
       "MiscFeature     1408\n",
       "PoolQC          1456\n",
       "dtype: int64"
      ]
     },
     "execution_count": 27,
     "metadata": {},
     "output_type": "execute_result"
    }
   ],
   "source": [
    "cat_num_missing = test.select_dtypes(exclude=[np.number]).isnull().sum()\n",
    "cat_missing_cols = cat_num_missing[(cat_num_missing > 5)].sort_values()\n",
    "cat_missing_cols"
   ]
  },
  {
   "cell_type": "code",
   "execution_count": 28,
   "id": "00d01b24",
   "metadata": {},
   "outputs": [
    {
     "data": {
      "text/plain": [
       "1459"
      ]
     },
     "execution_count": 28,
     "metadata": {},
     "output_type": "execute_result"
    }
   ],
   "source": [
    "cat_replace_dict = {}\n",
    "for col in cat_missing_cols.index:\n",
    "    cat_replace_dict[col] = 'No'\n",
    "    \n",
    "test = test.fillna(cat_replace_dict)\n",
    "len(test['Id'])"
   ]
  },
  {
   "cell_type": "code",
   "execution_count": 29,
   "id": "c70ef8b4",
   "metadata": {},
   "outputs": [
    {
     "data": {
      "text/plain": [
       "Exterior1st    1\n",
       "Exterior2nd    1\n",
       "KitchenQual    1\n",
       "SaleType       1\n",
       "Utilities      2\n",
       "Functional     2\n",
       "MSZoning       4\n",
       "dtype: int64"
      ]
     },
     "execution_count": 29,
     "metadata": {},
     "output_type": "execute_result"
    }
   ],
   "source": [
    "cat_num_missing = test.select_dtypes(exclude=[np.number]).isnull().sum()\n",
    "cat_missing_cols = cat_num_missing[(cat_num_missing > 0)].sort_values()\n",
    "cat_missing_cols"
   ]
  },
  {
   "cell_type": "code",
   "execution_count": 30,
   "id": "9f8cba7d",
   "metadata": {},
   "outputs": [
    {
     "data": {
      "text/html": [
       "<div>\n",
       "<style scoped>\n",
       "    .dataframe tbody tr th:only-of-type {\n",
       "        vertical-align: middle;\n",
       "    }\n",
       "\n",
       "    .dataframe tbody tr th {\n",
       "        vertical-align: top;\n",
       "    }\n",
       "\n",
       "    .dataframe thead th {\n",
       "        text-align: right;\n",
       "    }\n",
       "</style>\n",
       "<table border=\"1\" class=\"dataframe\">\n",
       "  <thead>\n",
       "    <tr style=\"text-align: right;\">\n",
       "      <th></th>\n",
       "      <th>MSZoning</th>\n",
       "      <th>Functional</th>\n",
       "      <th>Utilities</th>\n",
       "      <th>Exterior1st</th>\n",
       "      <th>Exterior2nd</th>\n",
       "      <th>KitchenQual</th>\n",
       "      <th>SaleType</th>\n",
       "    </tr>\n",
       "  </thead>\n",
       "  <tbody>\n",
       "    <tr>\n",
       "      <th>count</th>\n",
       "      <td>1455</td>\n",
       "      <td>1457</td>\n",
       "      <td>1457</td>\n",
       "      <td>1458</td>\n",
       "      <td>1458</td>\n",
       "      <td>1458</td>\n",
       "      <td>1458</td>\n",
       "    </tr>\n",
       "    <tr>\n",
       "      <th>unique</th>\n",
       "      <td>5</td>\n",
       "      <td>7</td>\n",
       "      <td>1</td>\n",
       "      <td>13</td>\n",
       "      <td>15</td>\n",
       "      <td>4</td>\n",
       "      <td>9</td>\n",
       "    </tr>\n",
       "    <tr>\n",
       "      <th>top</th>\n",
       "      <td>RL</td>\n",
       "      <td>Typ</td>\n",
       "      <td>AllPub</td>\n",
       "      <td>VinylSd</td>\n",
       "      <td>VinylSd</td>\n",
       "      <td>TA</td>\n",
       "      <td>WD</td>\n",
       "    </tr>\n",
       "    <tr>\n",
       "      <th>freq</th>\n",
       "      <td>1114</td>\n",
       "      <td>1357</td>\n",
       "      <td>1457</td>\n",
       "      <td>510</td>\n",
       "      <td>510</td>\n",
       "      <td>757</td>\n",
       "      <td>1258</td>\n",
       "    </tr>\n",
       "  </tbody>\n",
       "</table>\n",
       "</div>"
      ],
      "text/plain": [
       "       MSZoning Functional Utilities Exterior1st Exterior2nd KitchenQual  \\\n",
       "count      1455       1457      1457        1458        1458        1458   \n",
       "unique        5          7         1          13          15           4   \n",
       "top          RL        Typ    AllPub     VinylSd     VinylSd          TA   \n",
       "freq       1114       1357      1457         510         510         757   \n",
       "\n",
       "       SaleType  \n",
       "count      1458  \n",
       "unique        9  \n",
       "top          WD  \n",
       "freq       1258  "
      ]
     },
     "execution_count": 30,
     "metadata": {},
     "output_type": "execute_result"
    }
   ],
   "source": [
    "test_missing_values = ['MSZoning','Functional','Utilities','Exterior1st', 'Exterior2nd', 'KitchenQual','SaleType']\n",
    "test[test_missing_values].describe()"
   ]
  },
  {
   "cell_type": "markdown",
   "id": "ec731333",
   "metadata": {},
   "source": [
    "Since we are not supposed to remove any rows from the test data for evaluation purposes, we will fill all of these few missing values with the most common value in the respective columns:"
   ]
  },
  {
   "cell_type": "code",
   "execution_count": 31,
   "id": "2a438647",
   "metadata": {},
   "outputs": [
    {
     "data": {
      "text/plain": [
       "0    80\n",
       "dtype: int64"
      ]
     },
     "execution_count": 31,
     "metadata": {},
     "output_type": "execute_result"
    }
   ],
   "source": [
    "test['MSZoning'] = test['MSZoning'].fillna('RL')\n",
    "test['Functional'] = test['Functional'].fillna('Typ')\n",
    "test['Utilities'] = test['Utilities'].fillna('AllPub')\n",
    "test['KitchenQual'] = test['KitchenQual'].fillna('TA')\n",
    "test['Exterior1st'] = test['Exterior1st'].fillna('VinylSd')\n",
    "test['Exterior2nd'] = test['Exterior2nd'].fillna('VinylSd')\n",
    "test['SaleType'] = test['SaleType'].fillna('WD')\n",
    "test.isnull().sum().value_counts()"
   ]
  },
  {
   "cell_type": "code",
   "execution_count": 32,
   "id": "9c568e56",
   "metadata": {},
   "outputs": [
    {
     "data": {
      "text/plain": [
       "1459"
      ]
     },
     "execution_count": 32,
     "metadata": {},
     "output_type": "execute_result"
    }
   ],
   "source": [
    "len(test['Id'])"
   ]
  },
  {
   "cell_type": "markdown",
   "id": "0db62e7f",
   "metadata": {},
   "source": [
    "As seen, we now have a test dataset with 1459 sale data with no missing values."
   ]
  },
  {
   "cell_type": "markdown",
   "id": "678fe8c9",
   "metadata": {},
   "source": [
    "## Feature Engineering"
   ]
  },
  {
   "cell_type": "markdown",
   "id": "b20baeb7",
   "metadata": {},
   "source": [
    "We can start with adding additional features for the passed years since the last remodeling and sale. These will provide a better scale for the \"age\" of the house rather than the year itself."
   ]
  },
  {
   "cell_type": "code",
   "execution_count": 33,
   "id": "fd135eca",
   "metadata": {},
   "outputs": [],
   "source": [
    "## Create new columns\n",
    "train['YrBeforeSale'] = train['YrSold'] - train['YearBuilt']\n",
    "train['YrSinceRemod'] = train['YrSold'] - train['YearRemodAdd']\n",
    "\n",
    "test['YrBeforeSale'] = test['YrSold'] - test['YearBuilt']\n",
    "test['YrSinceRemod'] = test['YrSold'] - test['YearRemodAdd']"
   ]
  },
  {
   "cell_type": "markdown",
   "id": "b660fc1b",
   "metadata": {},
   "source": [
    "We need to check for negative results for these new features since that would indicate a problem in the data entry."
   ]
  },
  {
   "cell_type": "code",
   "execution_count": 34,
   "id": "f2a1100e",
   "metadata": {},
   "outputs": [
    {
     "data": {
      "text/html": [
       "<div>\n",
       "<style scoped>\n",
       "    .dataframe tbody tr th:only-of-type {\n",
       "        vertical-align: middle;\n",
       "    }\n",
       "\n",
       "    .dataframe tbody tr th {\n",
       "        vertical-align: top;\n",
       "    }\n",
       "\n",
       "    .dataframe thead th {\n",
       "        text-align: right;\n",
       "    }\n",
       "</style>\n",
       "<table border=\"1\" class=\"dataframe\">\n",
       "  <thead>\n",
       "    <tr style=\"text-align: right;\">\n",
       "      <th></th>\n",
       "      <th>Id</th>\n",
       "      <th>MSSubClass</th>\n",
       "      <th>MSZoning</th>\n",
       "      <th>LotFrontage</th>\n",
       "      <th>LotArea</th>\n",
       "      <th>Street</th>\n",
       "      <th>Alley</th>\n",
       "      <th>LotShape</th>\n",
       "      <th>LandContour</th>\n",
       "      <th>Utilities</th>\n",
       "      <th>...</th>\n",
       "      <th>Fence</th>\n",
       "      <th>MiscFeature</th>\n",
       "      <th>MiscVal</th>\n",
       "      <th>MoSold</th>\n",
       "      <th>YrSold</th>\n",
       "      <th>SaleType</th>\n",
       "      <th>SaleCondition</th>\n",
       "      <th>SalePrice</th>\n",
       "      <th>YrBeforeSale</th>\n",
       "      <th>YrSinceRemod</th>\n",
       "    </tr>\n",
       "  </thead>\n",
       "  <tbody>\n",
       "  </tbody>\n",
       "</table>\n",
       "<p>0 rows × 83 columns</p>\n",
       "</div>"
      ],
      "text/plain": [
       "Empty DataFrame\n",
       "Columns: [Id, MSSubClass, MSZoning, LotFrontage, LotArea, Street, Alley, LotShape, LandContour, Utilities, LotConfig, LandSlope, Neighborhood, Condition1, Condition2, BldgType, HouseStyle, OverallQual, OverallCond, YearBuilt, YearRemodAdd, RoofStyle, RoofMatl, Exterior1st, Exterior2nd, MasVnrType, MasVnrArea, ExterQual, ExterCond, Foundation, BsmtQual, BsmtCond, BsmtExposure, BsmtFinType1, BsmtFinSF1, BsmtFinType2, BsmtFinSF2, BsmtUnfSF, TotalBsmtSF, Heating, HeatingQC, CentralAir, Electrical, 1stFlrSF, 2ndFlrSF, LowQualFinSF, GrLivArea, BsmtFullBath, BsmtHalfBath, FullBath, HalfBath, BedroomAbvGr, KitchenAbvGr, KitchenQual, TotRmsAbvGrd, Functional, Fireplaces, FireplaceQu, GarageType, GarageYrBlt, GarageFinish, GarageCars, GarageArea, GarageQual, GarageCond, PavedDrive, WoodDeckSF, OpenPorchSF, EnclosedPorch, 3SsnPorch, ScreenPorch, PoolArea, PoolQC, Fence, MiscFeature, MiscVal, MoSold, YrSold, SaleType, SaleCondition, SalePrice, YrBeforeSale, YrSinceRemod]\n",
       "Index: []\n",
       "\n",
       "[0 rows x 83 columns]"
      ]
     },
     "execution_count": 34,
     "metadata": {},
     "output_type": "execute_result"
    }
   ],
   "source": [
    "train[train['YrBeforeSale']<0]"
   ]
  },
  {
   "cell_type": "code",
   "execution_count": 35,
   "id": "d3573924",
   "metadata": {},
   "outputs": [
    {
     "data": {
      "text/html": [
       "<div>\n",
       "<style scoped>\n",
       "    .dataframe tbody tr th:only-of-type {\n",
       "        vertical-align: middle;\n",
       "    }\n",
       "\n",
       "    .dataframe tbody tr th {\n",
       "        vertical-align: top;\n",
       "    }\n",
       "\n",
       "    .dataframe thead th {\n",
       "        text-align: right;\n",
       "    }\n",
       "</style>\n",
       "<table border=\"1\" class=\"dataframe\">\n",
       "  <thead>\n",
       "    <tr style=\"text-align: right;\">\n",
       "      <th></th>\n",
       "      <th>Id</th>\n",
       "      <th>MSSubClass</th>\n",
       "      <th>MSZoning</th>\n",
       "      <th>LotFrontage</th>\n",
       "      <th>LotArea</th>\n",
       "      <th>Street</th>\n",
       "      <th>Alley</th>\n",
       "      <th>LotShape</th>\n",
       "      <th>LandContour</th>\n",
       "      <th>Utilities</th>\n",
       "      <th>...</th>\n",
       "      <th>Fence</th>\n",
       "      <th>MiscFeature</th>\n",
       "      <th>MiscVal</th>\n",
       "      <th>MoSold</th>\n",
       "      <th>YrSold</th>\n",
       "      <th>SaleType</th>\n",
       "      <th>SaleCondition</th>\n",
       "      <th>SalePrice</th>\n",
       "      <th>YrBeforeSale</th>\n",
       "      <th>YrSinceRemod</th>\n",
       "    </tr>\n",
       "  </thead>\n",
       "  <tbody>\n",
       "  </tbody>\n",
       "</table>\n",
       "<p>0 rows × 83 columns</p>\n",
       "</div>"
      ],
      "text/plain": [
       "Empty DataFrame\n",
       "Columns: [Id, MSSubClass, MSZoning, LotFrontage, LotArea, Street, Alley, LotShape, LandContour, Utilities, LotConfig, LandSlope, Neighborhood, Condition1, Condition2, BldgType, HouseStyle, OverallQual, OverallCond, YearBuilt, YearRemodAdd, RoofStyle, RoofMatl, Exterior1st, Exterior2nd, MasVnrType, MasVnrArea, ExterQual, ExterCond, Foundation, BsmtQual, BsmtCond, BsmtExposure, BsmtFinType1, BsmtFinSF1, BsmtFinType2, BsmtFinSF2, BsmtUnfSF, TotalBsmtSF, Heating, HeatingQC, CentralAir, Electrical, 1stFlrSF, 2ndFlrSF, LowQualFinSF, GrLivArea, BsmtFullBath, BsmtHalfBath, FullBath, HalfBath, BedroomAbvGr, KitchenAbvGr, KitchenQual, TotRmsAbvGrd, Functional, Fireplaces, FireplaceQu, GarageType, GarageYrBlt, GarageFinish, GarageCars, GarageArea, GarageQual, GarageCond, PavedDrive, WoodDeckSF, OpenPorchSF, EnclosedPorch, 3SsnPorch, ScreenPorch, PoolArea, PoolQC, Fence, MiscFeature, MiscVal, MoSold, YrSold, SaleType, SaleCondition, SalePrice, YrBeforeSale, YrSinceRemod]\n",
       "Index: []\n",
       "\n",
       "[0 rows x 83 columns]"
      ]
     },
     "execution_count": 35,
     "metadata": {},
     "output_type": "execute_result"
    }
   ],
   "source": [
    "train[train['YrSinceRemod']<0]"
   ]
  },
  {
   "cell_type": "code",
   "execution_count": 36,
   "id": "ed16ca5e",
   "metadata": {},
   "outputs": [
    {
     "data": {
      "text/html": [
       "<div>\n",
       "<style scoped>\n",
       "    .dataframe tbody tr th:only-of-type {\n",
       "        vertical-align: middle;\n",
       "    }\n",
       "\n",
       "    .dataframe tbody tr th {\n",
       "        vertical-align: top;\n",
       "    }\n",
       "\n",
       "    .dataframe thead th {\n",
       "        text-align: right;\n",
       "    }\n",
       "</style>\n",
       "<table border=\"1\" class=\"dataframe\">\n",
       "  <thead>\n",
       "    <tr style=\"text-align: right;\">\n",
       "      <th></th>\n",
       "      <th>Id</th>\n",
       "      <th>MSSubClass</th>\n",
       "      <th>MSZoning</th>\n",
       "      <th>LotFrontage</th>\n",
       "      <th>LotArea</th>\n",
       "      <th>Street</th>\n",
       "      <th>Alley</th>\n",
       "      <th>LotShape</th>\n",
       "      <th>LandContour</th>\n",
       "      <th>Utilities</th>\n",
       "      <th>...</th>\n",
       "      <th>PoolQC</th>\n",
       "      <th>Fence</th>\n",
       "      <th>MiscFeature</th>\n",
       "      <th>MiscVal</th>\n",
       "      <th>MoSold</th>\n",
       "      <th>YrSold</th>\n",
       "      <th>SaleType</th>\n",
       "      <th>SaleCondition</th>\n",
       "      <th>YrBeforeSale</th>\n",
       "      <th>YrSinceRemod</th>\n",
       "    </tr>\n",
       "  </thead>\n",
       "  <tbody>\n",
       "    <tr>\n",
       "      <th>1089</th>\n",
       "      <td>2550</td>\n",
       "      <td>20</td>\n",
       "      <td>RL</td>\n",
       "      <td>128.0</td>\n",
       "      <td>39290</td>\n",
       "      <td>Pave</td>\n",
       "      <td>No</td>\n",
       "      <td>IR1</td>\n",
       "      <td>Bnk</td>\n",
       "      <td>AllPub</td>\n",
       "      <td>...</td>\n",
       "      <td>No</td>\n",
       "      <td>No</td>\n",
       "      <td>No</td>\n",
       "      <td>17000</td>\n",
       "      <td>10</td>\n",
       "      <td>2007</td>\n",
       "      <td>New</td>\n",
       "      <td>Partial</td>\n",
       "      <td>-1</td>\n",
       "      <td>-2</td>\n",
       "    </tr>\n",
       "  </tbody>\n",
       "</table>\n",
       "<p>1 rows × 82 columns</p>\n",
       "</div>"
      ],
      "text/plain": [
       "        Id  MSSubClass MSZoning  LotFrontage  LotArea Street Alley LotShape  \\\n",
       "1089  2550          20       RL        128.0    39290   Pave    No      IR1   \n",
       "\n",
       "     LandContour Utilities  ... PoolQC Fence MiscFeature MiscVal MoSold  \\\n",
       "1089         Bnk    AllPub  ...     No    No          No   17000     10   \n",
       "\n",
       "     YrSold SaleType  SaleCondition  YrBeforeSale  YrSinceRemod  \n",
       "1089   2007      New        Partial            -1            -2  \n",
       "\n",
       "[1 rows x 82 columns]"
      ]
     },
     "execution_count": 36,
     "metadata": {},
     "output_type": "execute_result"
    }
   ],
   "source": [
    "test[test['YrBeforeSale']<0]"
   ]
  },
  {
   "cell_type": "code",
   "execution_count": 37,
   "id": "105b97a3",
   "metadata": {},
   "outputs": [
    {
     "data": {
      "text/html": [
       "<div>\n",
       "<style scoped>\n",
       "    .dataframe tbody tr th:only-of-type {\n",
       "        vertical-align: middle;\n",
       "    }\n",
       "\n",
       "    .dataframe tbody tr th {\n",
       "        vertical-align: top;\n",
       "    }\n",
       "\n",
       "    .dataframe thead th {\n",
       "        text-align: right;\n",
       "    }\n",
       "</style>\n",
       "<table border=\"1\" class=\"dataframe\">\n",
       "  <thead>\n",
       "    <tr style=\"text-align: right;\">\n",
       "      <th></th>\n",
       "      <th>Id</th>\n",
       "      <th>MSSubClass</th>\n",
       "      <th>MSZoning</th>\n",
       "      <th>LotFrontage</th>\n",
       "      <th>LotArea</th>\n",
       "      <th>Street</th>\n",
       "      <th>Alley</th>\n",
       "      <th>LotShape</th>\n",
       "      <th>LandContour</th>\n",
       "      <th>Utilities</th>\n",
       "      <th>...</th>\n",
       "      <th>PoolQC</th>\n",
       "      <th>Fence</th>\n",
       "      <th>MiscFeature</th>\n",
       "      <th>MiscVal</th>\n",
       "      <th>MoSold</th>\n",
       "      <th>YrSold</th>\n",
       "      <th>SaleType</th>\n",
       "      <th>SaleCondition</th>\n",
       "      <th>YrBeforeSale</th>\n",
       "      <th>YrSinceRemod</th>\n",
       "    </tr>\n",
       "  </thead>\n",
       "  <tbody>\n",
       "    <tr>\n",
       "      <th>835</th>\n",
       "      <td>2296</td>\n",
       "      <td>60</td>\n",
       "      <td>RL</td>\n",
       "      <td>134.0</td>\n",
       "      <td>16659</td>\n",
       "      <td>Pave</td>\n",
       "      <td>No</td>\n",
       "      <td>IR1</td>\n",
       "      <td>Lvl</td>\n",
       "      <td>AllPub</td>\n",
       "      <td>...</td>\n",
       "      <td>No</td>\n",
       "      <td>No</td>\n",
       "      <td>No</td>\n",
       "      <td>0</td>\n",
       "      <td>6</td>\n",
       "      <td>2007</td>\n",
       "      <td>New</td>\n",
       "      <td>Partial</td>\n",
       "      <td>0</td>\n",
       "      <td>-1</td>\n",
       "    </tr>\n",
       "    <tr>\n",
       "      <th>1089</th>\n",
       "      <td>2550</td>\n",
       "      <td>20</td>\n",
       "      <td>RL</td>\n",
       "      <td>128.0</td>\n",
       "      <td>39290</td>\n",
       "      <td>Pave</td>\n",
       "      <td>No</td>\n",
       "      <td>IR1</td>\n",
       "      <td>Bnk</td>\n",
       "      <td>AllPub</td>\n",
       "      <td>...</td>\n",
       "      <td>No</td>\n",
       "      <td>No</td>\n",
       "      <td>No</td>\n",
       "      <td>17000</td>\n",
       "      <td>10</td>\n",
       "      <td>2007</td>\n",
       "      <td>New</td>\n",
       "      <td>Partial</td>\n",
       "      <td>-1</td>\n",
       "      <td>-2</td>\n",
       "    </tr>\n",
       "  </tbody>\n",
       "</table>\n",
       "<p>2 rows × 82 columns</p>\n",
       "</div>"
      ],
      "text/plain": [
       "        Id  MSSubClass MSZoning  LotFrontage  LotArea Street Alley LotShape  \\\n",
       "835   2296          60       RL        134.0    16659   Pave    No      IR1   \n",
       "1089  2550          20       RL        128.0    39290   Pave    No      IR1   \n",
       "\n",
       "     LandContour Utilities  ... PoolQC Fence MiscFeature MiscVal MoSold  \\\n",
       "835          Lvl    AllPub  ...     No    No          No       0      6   \n",
       "1089         Bnk    AllPub  ...     No    No          No   17000     10   \n",
       "\n",
       "     YrSold SaleType  SaleCondition  YrBeforeSale  YrSinceRemod  \n",
       "835    2007      New        Partial             0            -1  \n",
       "1089   2007      New        Partial            -1            -2  \n",
       "\n",
       "[2 rows x 82 columns]"
      ]
     },
     "execution_count": 37,
     "metadata": {},
     "output_type": "execute_result"
    }
   ],
   "source": [
    "test[test['YrSinceRemod']<0]"
   ]
  },
  {
   "cell_type": "markdown",
   "id": "387c1cc2",
   "metadata": {},
   "source": [
    "The training set has no negative year values, but the test set does. Normally we could have dropped these rows, but for the evaluation we need these rows as well. So as an alternative, we can replace these negative values with 0:"
   ]
  },
  {
   "cell_type": "code",
   "execution_count": 38,
   "id": "96fa35a5",
   "metadata": {},
   "outputs": [],
   "source": [
    "## Replace negative values for both of these new features\n",
    "test.iloc[835,-1] = 0\n",
    "test.iloc[1089,-2] = 0\n",
    "test.iloc[1089,-1] = 0\n",
    "\n",
    "## No longer need original year columns\n",
    "train = train.drop([\"YearBuilt\", \"YearRemodAdd\"], axis = 1)\n",
    "test = test.drop([\"YearBuilt\", \"YearRemodAdd\"], axis = 1)"
   ]
  },
  {
   "cell_type": "markdown",
   "id": "bd1b422b",
   "metadata": {},
   "source": [
    "We can also drop the columns that leak information about the target feature, i.e. sale price."
   ]
  },
  {
   "cell_type": "code",
   "execution_count": 39,
   "id": "5e23c2d8",
   "metadata": {},
   "outputs": [],
   "source": [
    "## Drop columns that leak info about the final sale\n",
    "train = train.drop([\"MoSold\", \"SaleCondition\", \"SaleType\", \"YrSold\"], axis=1)\n",
    "test = test.drop([\"MoSold\", \"SaleCondition\", \"SaleType\", \"YrSold\"], axis=1)"
   ]
  },
  {
   "cell_type": "code",
   "execution_count": 40,
   "id": "25932100",
   "metadata": {},
   "outputs": [
    {
     "name": "stdout",
     "output_type": "stream",
     "text": [
      "Train data shape: (1451, 77)\n",
      "Test data shape: (1459, 76)\n"
     ]
    }
   ],
   "source": [
    "print (\"Train data shape:\", train.shape)\n",
    "print (\"Test data shape:\", test.shape)"
   ]
  },
  {
   "cell_type": "markdown",
   "id": "ad213f4b",
   "metadata": {},
   "source": [
    "As a result, we have two datasets with the same number of columns(except for sale price) ready to go through feature selection."
   ]
  },
  {
   "cell_type": "markdown",
   "id": "c4f0e795",
   "metadata": {},
   "source": [
    "## Feature Filtering - Numerical"
   ]
  },
  {
   "cell_type": "markdown",
   "id": "6479bba1",
   "metadata": {},
   "source": [
    "Generate a correlation heatmap matrix of the numerical features in the training data set. "
   ]
  },
  {
   "cell_type": "code",
   "execution_count": 41,
   "id": "e55bb08f",
   "metadata": {},
   "outputs": [
    {
     "data": {
      "text/html": [
       "<div>\n",
       "<style scoped>\n",
       "    .dataframe tbody tr th:only-of-type {\n",
       "        vertical-align: middle;\n",
       "    }\n",
       "\n",
       "    .dataframe tbody tr th {\n",
       "        vertical-align: top;\n",
       "    }\n",
       "\n",
       "    .dataframe thead th {\n",
       "        text-align: right;\n",
       "    }\n",
       "</style>\n",
       "<table border=\"1\" class=\"dataframe\">\n",
       "  <thead>\n",
       "    <tr style=\"text-align: right;\">\n",
       "      <th></th>\n",
       "      <th>MSSubClass</th>\n",
       "      <th>LotFrontage</th>\n",
       "      <th>LotArea</th>\n",
       "      <th>OverallQual</th>\n",
       "      <th>OverallCond</th>\n",
       "      <th>MasVnrArea</th>\n",
       "      <th>BsmtFinSF1</th>\n",
       "      <th>BsmtFinSF2</th>\n",
       "      <th>BsmtUnfSF</th>\n",
       "      <th>TotalBsmtSF</th>\n",
       "      <th>...</th>\n",
       "      <th>WoodDeckSF</th>\n",
       "      <th>OpenPorchSF</th>\n",
       "      <th>EnclosedPorch</th>\n",
       "      <th>3SsnPorch</th>\n",
       "      <th>ScreenPorch</th>\n",
       "      <th>PoolArea</th>\n",
       "      <th>MiscVal</th>\n",
       "      <th>SalePrice</th>\n",
       "      <th>YrBeforeSale</th>\n",
       "      <th>YrSinceRemod</th>\n",
       "    </tr>\n",
       "  </thead>\n",
       "  <tbody>\n",
       "    <tr>\n",
       "      <th>0</th>\n",
       "      <td>60</td>\n",
       "      <td>65.0</td>\n",
       "      <td>8450</td>\n",
       "      <td>7</td>\n",
       "      <td>5</td>\n",
       "      <td>196.0</td>\n",
       "      <td>706</td>\n",
       "      <td>0</td>\n",
       "      <td>150</td>\n",
       "      <td>856</td>\n",
       "      <td>...</td>\n",
       "      <td>0</td>\n",
       "      <td>61</td>\n",
       "      <td>0</td>\n",
       "      <td>0</td>\n",
       "      <td>0</td>\n",
       "      <td>0</td>\n",
       "      <td>0</td>\n",
       "      <td>208500</td>\n",
       "      <td>5</td>\n",
       "      <td>5</td>\n",
       "    </tr>\n",
       "    <tr>\n",
       "      <th>1</th>\n",
       "      <td>20</td>\n",
       "      <td>80.0</td>\n",
       "      <td>9600</td>\n",
       "      <td>6</td>\n",
       "      <td>8</td>\n",
       "      <td>0.0</td>\n",
       "      <td>978</td>\n",
       "      <td>0</td>\n",
       "      <td>284</td>\n",
       "      <td>1262</td>\n",
       "      <td>...</td>\n",
       "      <td>298</td>\n",
       "      <td>0</td>\n",
       "      <td>0</td>\n",
       "      <td>0</td>\n",
       "      <td>0</td>\n",
       "      <td>0</td>\n",
       "      <td>0</td>\n",
       "      <td>181500</td>\n",
       "      <td>31</td>\n",
       "      <td>31</td>\n",
       "    </tr>\n",
       "    <tr>\n",
       "      <th>2</th>\n",
       "      <td>60</td>\n",
       "      <td>68.0</td>\n",
       "      <td>11250</td>\n",
       "      <td>7</td>\n",
       "      <td>5</td>\n",
       "      <td>162.0</td>\n",
       "      <td>486</td>\n",
       "      <td>0</td>\n",
       "      <td>434</td>\n",
       "      <td>920</td>\n",
       "      <td>...</td>\n",
       "      <td>0</td>\n",
       "      <td>42</td>\n",
       "      <td>0</td>\n",
       "      <td>0</td>\n",
       "      <td>0</td>\n",
       "      <td>0</td>\n",
       "      <td>0</td>\n",
       "      <td>223500</td>\n",
       "      <td>7</td>\n",
       "      <td>6</td>\n",
       "    </tr>\n",
       "    <tr>\n",
       "      <th>3</th>\n",
       "      <td>70</td>\n",
       "      <td>60.0</td>\n",
       "      <td>9550</td>\n",
       "      <td>7</td>\n",
       "      <td>5</td>\n",
       "      <td>0.0</td>\n",
       "      <td>216</td>\n",
       "      <td>0</td>\n",
       "      <td>540</td>\n",
       "      <td>756</td>\n",
       "      <td>...</td>\n",
       "      <td>0</td>\n",
       "      <td>35</td>\n",
       "      <td>272</td>\n",
       "      <td>0</td>\n",
       "      <td>0</td>\n",
       "      <td>0</td>\n",
       "      <td>0</td>\n",
       "      <td>140000</td>\n",
       "      <td>91</td>\n",
       "      <td>36</td>\n",
       "    </tr>\n",
       "    <tr>\n",
       "      <th>4</th>\n",
       "      <td>60</td>\n",
       "      <td>84.0</td>\n",
       "      <td>14260</td>\n",
       "      <td>8</td>\n",
       "      <td>5</td>\n",
       "      <td>350.0</td>\n",
       "      <td>655</td>\n",
       "      <td>0</td>\n",
       "      <td>490</td>\n",
       "      <td>1145</td>\n",
       "      <td>...</td>\n",
       "      <td>192</td>\n",
       "      <td>84</td>\n",
       "      <td>0</td>\n",
       "      <td>0</td>\n",
       "      <td>0</td>\n",
       "      <td>0</td>\n",
       "      <td>0</td>\n",
       "      <td>250000</td>\n",
       "      <td>8</td>\n",
       "      <td>8</td>\n",
       "    </tr>\n",
       "  </tbody>\n",
       "</table>\n",
       "<p>5 rows × 35 columns</p>\n",
       "</div>"
      ],
      "text/plain": [
       "   MSSubClass  LotFrontage  LotArea  OverallQual  OverallCond  MasVnrArea  \\\n",
       "0          60         65.0     8450            7            5       196.0   \n",
       "1          20         80.0     9600            6            8         0.0   \n",
       "2          60         68.0    11250            7            5       162.0   \n",
       "3          70         60.0     9550            7            5         0.0   \n",
       "4          60         84.0    14260            8            5       350.0   \n",
       "\n",
       "   BsmtFinSF1  BsmtFinSF2  BsmtUnfSF  TotalBsmtSF  ...  WoodDeckSF  \\\n",
       "0         706           0        150          856  ...           0   \n",
       "1         978           0        284         1262  ...         298   \n",
       "2         486           0        434          920  ...           0   \n",
       "3         216           0        540          756  ...           0   \n",
       "4         655           0        490         1145  ...         192   \n",
       "\n",
       "   OpenPorchSF  EnclosedPorch  3SsnPorch  ScreenPorch  PoolArea  MiscVal  \\\n",
       "0           61              0          0            0         0        0   \n",
       "1            0              0          0            0         0        0   \n",
       "2           42              0          0            0         0        0   \n",
       "3           35            272          0            0         0        0   \n",
       "4           84              0          0            0         0        0   \n",
       "\n",
       "   SalePrice  YrBeforeSale  YrSinceRemod  \n",
       "0     208500             5             5  \n",
       "1     181500            31            31  \n",
       "2     223500             7             6  \n",
       "3     140000            91            36  \n",
       "4     250000             8             8  \n",
       "\n",
       "[5 rows x 35 columns]"
      ]
     },
     "execution_count": 41,
     "metadata": {},
     "output_type": "execute_result"
    }
   ],
   "source": [
    "numerical_train = train.drop([\"Id\"], axis=1).select_dtypes(include=[np.number])\n",
    "numerical_train.head(5)"
   ]
  },
  {
   "cell_type": "code",
   "execution_count": 42,
   "id": "daf89a00",
   "metadata": {},
   "outputs": [
    {
     "name": "stdout",
     "output_type": "stream",
     "text": [
      "BsmtFinSF2       0.008530\n",
      "MiscVal          0.020050\n",
      "LowQualFinSF     0.025270\n",
      "PoolArea         0.033011\n",
      "BsmtHalfBath     0.036587\n",
      "3SsnPorch        0.047737\n",
      "OverallCond      0.080784\n",
      "MSSubClass       0.086804\n",
      "ScreenPorch      0.119115\n",
      "EnclosedPorch    0.129741\n",
      "KitchenAbvGr     0.139034\n",
      "BedroomAbvGr     0.162150\n",
      "BsmtUnfSF        0.221239\n",
      "BsmtFullBath     0.234641\n",
      "LotArea          0.271273\n",
      "HalfBath         0.284313\n",
      "2ndFlrSF         0.299889\n",
      "WoodDeckSF       0.323405\n",
      "OpenPorchSF      0.330738\n",
      "LotFrontage      0.331367\n",
      "BsmtFinSF1       0.393811\n",
      "GarageYrBlt      0.406779\n",
      "Fireplaces       0.466395\n",
      "MasVnrArea       0.469476\n",
      "YrSinceRemod     0.521843\n",
      "YrBeforeSale     0.534428\n",
      "TotRmsAbvGrd     0.538118\n",
      "FullBath         0.558772\n",
      "1stFlrSF         0.623816\n",
      "TotalBsmtSF      0.645455\n",
      "GarageArea       0.647449\n",
      "GarageCars       0.653044\n",
      "GrLivArea        0.720022\n",
      "OverallQual      0.800121\n",
      "SalePrice        1.000000\n",
      "Name: SalePrice, dtype: float64\n"
     ]
    }
   ],
   "source": [
    "## Find the best correlation with Sale Price\n",
    "\n",
    "corrmat = numerical_train.corr()\n",
    "sorted_corrs = corrmat['SalePrice'].abs().sort_values()\n",
    "print(sorted_corrs)"
   ]
  },
  {
   "cell_type": "code",
   "execution_count": 43,
   "id": "e54b3336",
   "metadata": {},
   "outputs": [
    {
     "data": {
      "image/png": "[encoded data removed]",
      "text/plain": [
       "<Figure size 576x576 with 2 Axes>"
      ]
     },
     "metadata": {
      "needs_background": "light"
     },
     "output_type": "display_data"
    }
   ],
   "source": [
    "## Correlation heatmap to identify linear features \n",
    "%matplotlib inline\n",
    "import seaborn as sns\n",
    "strong_corrs = sorted_corrs[sorted_corrs > 0.3]\n",
    "corrmat = numerical_train[strong_corrs.index].corr()\n",
    "plt.figure(figsize=(8,8))\n",
    "sns.heatmap(corrmat,\n",
    "            vmin=-1,\n",
    "            cmap='coolwarm');"
   ]
  },
  {
   "cell_type": "markdown",
   "id": "cd9394b6",
   "metadata": {},
   "source": [
    "It seems like Overall Qual and the Gr Liv Area are the two features with the highest correlation with Sale Price. From the heatmap we also see that there is a linear relation between the following features:\n",
    " * TotRms AbvGrd - Gr Liv Area: Number of rooms depends on the living area\n",
    " * GarageCars - GarageArea: Size of garage in two different units\n",
    " * 1stFlrSF - TotalBsmtSF: Total basement area depends on the size of the 1st floor\n",
    " * GarageYrBlt - YrBeforeSale: The garage is usually built in the same year as the house\n",
    "\n",
    "Therefore we can drop TotRms AbvGrd, GarageCars, 1stFlrSF and GarageYrBlt from our features."
   ]
  },
  {
   "cell_type": "code",
   "execution_count": 44,
   "id": "262c4377",
   "metadata": {},
   "outputs": [],
   "source": [
    "transform_train = numerical_train.drop(['TotRmsAbvGrd','GarageCars','1stFlrSF','GarageYrBlt'],axis=1)"
   ]
  },
  {
   "cell_type": "markdown",
   "id": "f1a9e618",
   "metadata": {},
   "source": [
    "We can further narrow down the features by keeping only the columns with a correlation coefficient larger than 0.4, which seems to be a natural cutoff point for this dataset."
   ]
  },
  {
   "cell_type": "code",
   "execution_count": 45,
   "id": "2d0cf003",
   "metadata": {},
   "outputs": [
    {
     "data": {
      "text/plain": [
       "Fireplaces      0.466395\n",
       "MasVnrArea      0.469476\n",
       "YrSinceRemod    0.521843\n",
       "YrBeforeSale    0.534428\n",
       "FullBath        0.558772\n",
       "TotalBsmtSF     0.645455\n",
       "GarageArea      0.647449\n",
       "GrLivArea       0.720022\n",
       "OverallQual     0.800121\n",
       "SalePrice       1.000000\n",
       "Name: SalePrice, dtype: float64"
      ]
     },
     "execution_count": 45,
     "metadata": {},
     "output_type": "execute_result"
    }
   ],
   "source": [
    "abs_corr_coeffs = transform_train.corr()['SalePrice'].abs().sort_values()\n",
    "abs_corr_coeffs[abs_corr_coeffs > 0.4]"
   ]
  },
  {
   "cell_type": "code",
   "execution_count": 46,
   "id": "423e06b5",
   "metadata": {},
   "outputs": [],
   "source": [
    "transform_train = transform_train.drop(abs_corr_coeffs[abs_corr_coeffs < 0.4].index, axis=1)\n",
    "num_cols_to_keep = transform_train.columns"
   ]
  },
  {
   "cell_type": "markdown",
   "id": "6159054f",
   "metadata": {},
   "source": [
    "## Feature Filtering - Categorical"
   ]
  },
  {
   "cell_type": "markdown",
   "id": "51482c1d",
   "metadata": {},
   "source": [
    "Next we can look at which categorical columns we can keep for the machine learning model."
   ]
  },
  {
   "cell_type": "code",
   "execution_count": 47,
   "id": "231e115a",
   "metadata": {},
   "outputs": [
    {
     "data": {
      "text/html": [
       "<div>\n",
       "<style scoped>\n",
       "    .dataframe tbody tr th:only-of-type {\n",
       "        vertical-align: middle;\n",
       "    }\n",
       "\n",
       "    .dataframe tbody tr th {\n",
       "        vertical-align: top;\n",
       "    }\n",
       "\n",
       "    .dataframe thead th {\n",
       "        text-align: right;\n",
       "    }\n",
       "</style>\n",
       "<table border=\"1\" class=\"dataframe\">\n",
       "  <thead>\n",
       "    <tr style=\"text-align: right;\">\n",
       "      <th></th>\n",
       "      <th>MSZoning</th>\n",
       "      <th>Street</th>\n",
       "      <th>Alley</th>\n",
       "      <th>LotShape</th>\n",
       "      <th>LandContour</th>\n",
       "      <th>Utilities</th>\n",
       "      <th>LotConfig</th>\n",
       "      <th>LandSlope</th>\n",
       "      <th>Neighborhood</th>\n",
       "      <th>Condition1</th>\n",
       "      <th>...</th>\n",
       "      <th>Functional</th>\n",
       "      <th>FireplaceQu</th>\n",
       "      <th>GarageType</th>\n",
       "      <th>GarageFinish</th>\n",
       "      <th>GarageQual</th>\n",
       "      <th>GarageCond</th>\n",
       "      <th>PavedDrive</th>\n",
       "      <th>PoolQC</th>\n",
       "      <th>Fence</th>\n",
       "      <th>MiscFeature</th>\n",
       "    </tr>\n",
       "  </thead>\n",
       "  <tbody>\n",
       "    <tr>\n",
       "      <th>count</th>\n",
       "      <td>1451</td>\n",
       "      <td>1451</td>\n",
       "      <td>1451</td>\n",
       "      <td>1451</td>\n",
       "      <td>1451</td>\n",
       "      <td>1451</td>\n",
       "      <td>1451</td>\n",
       "      <td>1451</td>\n",
       "      <td>1451</td>\n",
       "      <td>1451</td>\n",
       "      <td>...</td>\n",
       "      <td>1451</td>\n",
       "      <td>1451</td>\n",
       "      <td>1451</td>\n",
       "      <td>1451</td>\n",
       "      <td>1451</td>\n",
       "      <td>1451</td>\n",
       "      <td>1451</td>\n",
       "      <td>1451</td>\n",
       "      <td>1451</td>\n",
       "      <td>1451</td>\n",
       "    </tr>\n",
       "    <tr>\n",
       "      <th>unique</th>\n",
       "      <td>5</td>\n",
       "      <td>2</td>\n",
       "      <td>3</td>\n",
       "      <td>4</td>\n",
       "      <td>4</td>\n",
       "      <td>2</td>\n",
       "      <td>5</td>\n",
       "      <td>3</td>\n",
       "      <td>25</td>\n",
       "      <td>9</td>\n",
       "      <td>...</td>\n",
       "      <td>7</td>\n",
       "      <td>6</td>\n",
       "      <td>7</td>\n",
       "      <td>4</td>\n",
       "      <td>6</td>\n",
       "      <td>6</td>\n",
       "      <td>3</td>\n",
       "      <td>4</td>\n",
       "      <td>5</td>\n",
       "      <td>5</td>\n",
       "    </tr>\n",
       "    <tr>\n",
       "      <th>top</th>\n",
       "      <td>RL</td>\n",
       "      <td>Pave</td>\n",
       "      <td>No</td>\n",
       "      <td>Reg</td>\n",
       "      <td>Lvl</td>\n",
       "      <td>AllPub</td>\n",
       "      <td>Inside</td>\n",
       "      <td>Gtl</td>\n",
       "      <td>NAmes</td>\n",
       "      <td>Norm</td>\n",
       "      <td>...</td>\n",
       "      <td>Typ</td>\n",
       "      <td>No</td>\n",
       "      <td>Attchd</td>\n",
       "      <td>Unf</td>\n",
       "      <td>TA</td>\n",
       "      <td>TA</td>\n",
       "      <td>Y</td>\n",
       "      <td>No</td>\n",
       "      <td>No</td>\n",
       "      <td>No</td>\n",
       "    </tr>\n",
       "    <tr>\n",
       "      <th>freq</th>\n",
       "      <td>1143</td>\n",
       "      <td>1446</td>\n",
       "      <td>1360</td>\n",
       "      <td>920</td>\n",
       "      <td>1306</td>\n",
       "      <td>1450</td>\n",
       "      <td>1046</td>\n",
       "      <td>1374</td>\n",
       "      <td>225</td>\n",
       "      <td>1254</td>\n",
       "      <td>...</td>\n",
       "      <td>1351</td>\n",
       "      <td>688</td>\n",
       "      <td>865</td>\n",
       "      <td>605</td>\n",
       "      <td>1302</td>\n",
       "      <td>1317</td>\n",
       "      <td>1331</td>\n",
       "      <td>1446</td>\n",
       "      <td>1171</td>\n",
       "      <td>1398</td>\n",
       "    </tr>\n",
       "  </tbody>\n",
       "</table>\n",
       "<p>4 rows × 41 columns</p>\n",
       "</div>"
      ],
      "text/plain": [
       "       MSZoning Street Alley LotShape LandContour Utilities LotConfig  \\\n",
       "count      1451   1451  1451     1451        1451      1451      1451   \n",
       "unique        5      2     3        4           4         2         5   \n",
       "top          RL   Pave    No      Reg         Lvl    AllPub    Inside   \n",
       "freq       1143   1446  1360      920        1306      1450      1046   \n",
       "\n",
       "       LandSlope Neighborhood Condition1  ... Functional FireplaceQu  \\\n",
       "count       1451         1451       1451  ...       1451        1451   \n",
       "unique         3           25          9  ...          7           6   \n",
       "top          Gtl        NAmes       Norm  ...        Typ          No   \n",
       "freq        1374          225       1254  ...       1351         688   \n",
       "\n",
       "       GarageType GarageFinish GarageQual GarageCond PavedDrive PoolQC Fence  \\\n",
       "count        1451         1451       1451       1451       1451   1451  1451   \n",
       "unique          7            4          6          6          3      4     5   \n",
       "top        Attchd          Unf         TA         TA          Y     No    No   \n",
       "freq          865          605       1302       1317       1331   1446  1171   \n",
       "\n",
       "       MiscFeature  \n",
       "count         1451  \n",
       "unique           5  \n",
       "top             No  \n",
       "freq          1398  \n",
       "\n",
       "[4 rows x 41 columns]"
      ]
     },
     "execution_count": 47,
     "metadata": {},
     "output_type": "execute_result"
    }
   ],
   "source": [
    "cat_train = train.select_dtypes(exclude=[np.number])\n",
    "cat_train.describe()"
   ]
  },
  {
   "cell_type": "code",
   "execution_count": 48,
   "id": "99c5ce92",
   "metadata": {},
   "outputs": [
    {
     "name": "stdout",
     "output_type": "stream",
     "text": [
      "MSZoning: 5 unique values -  ['C (all)' 'FV' 'RH' 'RL' 'RM']\n",
      "Street: 2 unique values -  ['Grvl' 'Pave']\n",
      "Alley: 3 unique values -  ['Grvl' 'No' 'Pave']\n",
      "LotShape: 4 unique values -  ['IR1' 'IR2' 'IR3' 'Reg']\n",
      "LandContour: 4 unique values -  ['Bnk' 'HLS' 'Low' 'Lvl']\n",
      "Utilities: 2 unique values -  ['AllPub' 'NoSeWa']\n",
      "LotConfig: 5 unique values -  ['Corner' 'CulDSac' 'FR2' 'FR3' 'Inside']\n",
      "LandSlope: 3 unique values -  ['Gtl' 'Mod' 'Sev']\n",
      "Neighborhood: 25 unique values -  ['Blmngtn' 'Blueste' 'BrDale' 'BrkSide' 'ClearCr' 'CollgCr' 'Crawfor'\n",
      " 'Edwards' 'Gilbert' 'IDOTRR' 'MeadowV' 'Mitchel' 'NAmes' 'NPkVill'\n",
      " 'NWAmes' 'NoRidge' 'NridgHt' 'OldTown' 'SWISU' 'Sawyer' 'SawyerW'\n",
      " 'Somerst' 'StoneBr' 'Timber' 'Veenker']\n",
      "Condition1: 9 unique values -  ['Artery' 'Feedr' 'Norm' 'PosA' 'PosN' 'RRAe' 'RRAn' 'RRNe' 'RRNn']\n",
      "Condition2: 7 unique values -  ['Artery' 'Feedr' 'Norm' 'PosA' 'RRAe' 'RRAn' 'RRNn']\n",
      "BldgType: 5 unique values -  ['1Fam' '2fmCon' 'Duplex' 'Twnhs' 'TwnhsE']\n",
      "HouseStyle: 8 unique values -  ['1.5Fin' '1.5Unf' '1Story' '2.5Fin' '2.5Unf' '2Story' 'SFoyer' 'SLvl']\n",
      "RoofStyle: 6 unique values -  ['Flat' 'Gable' 'Gambrel' 'Hip' 'Mansard' 'Shed']\n",
      "RoofMatl: 7 unique values -  ['CompShg' 'Membran' 'Metal' 'Roll' 'Tar&Grv' 'WdShake' 'WdShngl']\n",
      "Exterior1st: 15 unique values -  ['AsbShng' 'AsphShn' 'BrkComm' 'BrkFace' 'CBlock' 'CemntBd' 'HdBoard'\n",
      " 'ImStucc' 'MetalSd' 'Plywood' 'Stone' 'Stucco' 'VinylSd' 'Wd Sdng'\n",
      " 'WdShing']\n",
      "Exterior2nd: 16 unique values -  ['AsbShng' 'AsphShn' 'Brk Cmn' 'BrkFace' 'CBlock' 'CmentBd' 'HdBoard'\n",
      " 'ImStucc' 'MetalSd' 'Other' 'Plywood' 'Stone' 'Stucco' 'VinylSd'\n",
      " 'Wd Sdng' 'Wd Shng']\n",
      "MasVnrType: 5 unique values -  ['BrkCmn' 'BrkFace' 'No' 'None' 'Stone']\n",
      "ExterQual: 4 unique values -  ['Ex' 'Fa' 'Gd' 'TA']\n",
      "ExterCond: 5 unique values -  ['Ex' 'Fa' 'Gd' 'Po' 'TA']\n",
      "Foundation: 6 unique values -  ['BrkTil' 'CBlock' 'PConc' 'Slab' 'Stone' 'Wood']\n",
      "BsmtQual: 5 unique values -  ['Ex' 'Fa' 'Gd' 'No' 'TA']\n",
      "BsmtCond: 5 unique values -  ['Fa' 'Gd' 'No' 'Po' 'TA']\n",
      "BsmtExposure: 4 unique values -  ['Av' 'Gd' 'Mn' 'No']\n",
      "BsmtFinType1: 7 unique values -  ['ALQ' 'BLQ' 'GLQ' 'LwQ' 'No' 'Rec' 'Unf']\n",
      "BsmtFinType2: 7 unique values -  ['ALQ' 'BLQ' 'GLQ' 'LwQ' 'No' 'Rec' 'Unf']\n",
      "Heating: 6 unique values -  ['Floor' 'GasA' 'GasW' 'Grav' 'OthW' 'Wall']\n",
      "HeatingQC: 5 unique values -  ['Ex' 'Fa' 'Gd' 'Po' 'TA']\n",
      "CentralAir: 2 unique values -  ['N' 'Y']\n",
      "Electrical: 5 unique values -  ['FuseA' 'FuseF' 'FuseP' 'Mix' 'SBrkr']\n",
      "KitchenQual: 4 unique values -  ['Ex' 'Fa' 'Gd' 'TA']\n",
      "Functional: 7 unique values -  ['Maj1' 'Maj2' 'Min1' 'Min2' 'Mod' 'Sev' 'Typ']\n",
      "FireplaceQu: 6 unique values -  ['Ex' 'Fa' 'Gd' 'No' 'Po' 'TA']\n",
      "GarageType: 7 unique values -  ['2Types' 'Attchd' 'Basment' 'BuiltIn' 'CarPort' 'Detchd' 'No']\n",
      "GarageFinish: 4 unique values -  ['Fin' 'No' 'RFn' 'Unf']\n",
      "GarageQual: 6 unique values -  ['Ex' 'Fa' 'Gd' 'No' 'Po' 'TA']\n",
      "GarageCond: 6 unique values -  ['Ex' 'Fa' 'Gd' 'No' 'Po' 'TA']\n",
      "PavedDrive: 3 unique values -  ['N' 'P' 'Y']\n",
      "PoolQC: 4 unique values -  ['Ex' 'Fa' 'Gd' 'No']\n",
      "Fence: 5 unique values -  ['GdPrv' 'GdWo' 'MnPrv' 'MnWw' 'No']\n",
      "MiscFeature: 5 unique values -  ['Gar2' 'No' 'Othr' 'Shed' 'TenC']\n"
     ]
    }
   ],
   "source": [
    "## Convert the columns into categorical type\n",
    "text_cols = cat_train.columns\n",
    "mod_cat_train = cat_train.copy()\n",
    "for col in text_cols:\n",
    "    mod_cat_train[col] = cat_train[col].astype('category')\n",
    "## How many unique values in each categorical column?\n",
    "    uniq = np.unique(cat_train[col])\n",
    "    print('{}: {} unique values -  {}'.format(col,len(uniq),uniq))"
   ]
  },
  {
   "cell_type": "markdown",
   "id": "2a7b56d6",
   "metadata": {},
   "source": [
    "After converting the categorical columns, we confirmed that they all have at least 2 distinct values. Similarly to numerical columns, we can check correlations between the categorical features to eliminate linear relations between distinct features. This gets really complicated after we apply one-hot encoding since we end up with a really large correlation table (216 in this case). Therefore we need to use Cramer's V, which is a measure of association between two nominal variables, giving a value between 0 and +1. For this, we need a categorical representation of the target variable sale price: "
   ]
  },
  {
   "cell_type": "code",
   "execution_count": 49,
   "id": "c1187d64",
   "metadata": {},
   "outputs": [
    {
     "data": {
      "text/plain": [
       "[100000, 150000)    501\n",
       "[150000, 200000)    406\n",
       "[200000, 250000)    210\n",
       "[250000, 300000)    109\n",
       "[50000, 100000)     108\n",
       "[300000, 350000)     59\n",
       "[350000, 400000)     27\n",
       "[400000, 450000)     14\n",
       "[0, 50000)            5\n",
       "[450000, 500000)      5\n",
       "[550000, 600000)      3\n",
       "[500000, 550000)      2\n",
       "[600000, 650000)      2\n",
       "Name: SalePriceCat, dtype: int64"
      ]
     },
     "execution_count": 49,
     "metadata": {},
     "output_type": "execute_result"
    }
   ],
   "source": [
    "mod_cat_train['SalePriceCat'] = pd.cut(train['SalePrice'],np.arange(0, 700000, 50000),include_lowest=True,right=False)\n",
    "mod_cat_train['SalePriceCat'].value_counts()"
   ]
  },
  {
   "cell_type": "code",
   "execution_count": 50,
   "id": "4bac61b5",
   "metadata": {},
   "outputs": [
    {
     "data": {
      "text/plain": [
       "0    42\n",
       "dtype: int64"
      ]
     },
     "execution_count": 50,
     "metadata": {},
     "output_type": "execute_result"
    }
   ],
   "source": [
    "mod_cat_train.isnull().sum().value_counts()"
   ]
  },
  {
   "cell_type": "markdown",
   "id": "ef3d13ef",
   "metadata": {},
   "source": [
    "This way, we have a full categorical dataset with no missing values that we can use to find associations with. This will help us further filter features for use with the machine learning model."
   ]
  },
  {
   "cell_type": "markdown",
   "id": "6e93a0ed",
   "metadata": {},
   "source": [
    "The functions we need were already developed by Shaked Zychlinski in his GitHub page:\n",
    "\n",
    "https://github.com/shakedzy/dython\n",
    "\n",
    "He also has the following article to explain his approach:\n",
    "\n",
    "https://towardsdatascience.com/the-search-for-categorical-correlation-a1cf7f1888c9\n",
    "\n",
    "In the following we will simplify it for our case, in which we already converted the values into categorical and thus only need Cramer's V:"
   ]
  },
  {
   "cell_type": "code",
   "execution_count": 51,
   "id": "812dfd4c",
   "metadata": {},
   "outputs": [],
   "source": [
    "import scipy.stats as ss\n",
    "def cramers_v(x,y):\n",
    "    \"\"\"\n",
    "    Calculates Cramer's V statistic for categorical-categorical association.\n",
    "    This is a symmetric coefficient: V(x,y) = V(y,x)\n",
    "\n",
    "    Original function taken from: https://stackoverflow.com/a/46498792/5863503\n",
    "    Wikipedia: https://en.wikipedia.org/wiki/Cram%C3%A9r%27s_V\n",
    "\n",
    "    Parameters:\n",
    "    -----------\n",
    "    x : list / NumPy ndarray / Pandas Series\n",
    "        A sequence of categorical measurements\n",
    "    y : list / NumPy ndarray / Pandas Series\n",
    "        A sequence of categorical measurements\n",
    "\n",
    "    Returns:\n",
    "    --------\n",
    "    float in the range of [0,1]\n",
    "    \"\"\"\n",
    "    confusion_matrix = pd.crosstab(x, y)\n",
    "    chi2 = ss.chi2_contingency(confusion_matrix)[0]\n",
    "    n = confusion_matrix.sum().sum()\n",
    "    phi2 = chi2 / n\n",
    "    r, k = confusion_matrix.shape\n",
    "    return np.sqrt(phi2 / min(k - 1, r - 1))"
   ]
  },
  {
   "cell_type": "code",
   "execution_count": 52,
   "id": "d4564e3a",
   "metadata": {},
   "outputs": [],
   "source": [
    "def associations(dataset):\n",
    "    \"\"\"\n",
    "    Calculate the strength-of-association of features in data-set\n",
    "    with categorical features using Cramer's V for categorical-categorical cases\n",
    "\n",
    "    Parameters:\n",
    "    -----------\n",
    "    dataset : NumPy ndarray / Pandas DataFrame\n",
    "        The data-set for which the features' correlation is computed\n",
    "\n",
    "    Returns:\n",
    "    --------\n",
    "    A dictionary with the following keys:\n",
    "    - `corr`: A DataFrame of the correlation/strength-of-association between\n",
    "    all features\n",
    "\n",
    "    \"\"\"\n",
    "    columns = dataset.columns\n",
    "    corr = pd.DataFrame(index=columns, columns=columns)  # will be used to store associations values\n",
    "\n",
    "    # computing associations\n",
    "    for i in range(0, len(columns)):\n",
    "        for j in range(i, len(columns)):\n",
    "            if i == j:\n",
    "                corr.loc[columns[i], columns[j]] = 1.0\n",
    "            else:\n",
    "                cell = cramers_v(dataset[columns[i]], dataset[columns[j]])\n",
    "                ij = cell\n",
    "                ji = cell\n",
    "                corr.loc[columns[i], columns[j]] = ij\n",
    "                corr.loc[columns[j], columns[i]] = ji\n",
    "\n",
    "    return corr"
   ]
  },
  {
   "cell_type": "code",
   "execution_count": 53,
   "id": "91a918f7",
   "metadata": {},
   "outputs": [
    {
     "data": {
      "text/plain": [
       "Utilities       0.036163\n",
       "Street          0.038115\n",
       "PoolQC          0.065770\n",
       "MiscFeature     0.074242\n",
       "Condition2      0.074579\n",
       "Condition1      0.100359\n",
       "LandSlope       0.102299\n",
       "RoofMatl        0.109802\n",
       "Functional      0.110515\n",
       "LotConfig       0.128852\n",
       "BsmtFinType2    0.131219\n",
       "BldgType        0.133167\n",
       "Heating         0.147987\n",
       "ExterCond       0.150994\n",
       "RoofStyle       0.151674\n",
       "Fence           0.152307\n",
       "Alley           0.157847\n",
       "LandContour     0.163701\n",
       "HouseStyle      0.168415\n",
       "Exterior1st     0.171195\n",
       "Exterior2nd     0.173832\n",
       "Electrical      0.174464\n",
       "BsmtCond        0.179937\n",
       "GarageCond      0.212562\n",
       "LotShape        0.219893\n",
       "BsmtFinType1    0.219918\n",
       "BsmtExposure    0.229089\n",
       "PavedDrive      0.239054\n",
       "GarageQual      0.240828\n",
       "MasVnrType      0.257075\n",
       "HeatingQC       0.269145\n",
       "Foundation      0.269543\n",
       "GarageType      0.275877\n",
       "FireplaceQu     0.307837\n",
       "MSZoning        0.309258\n",
       "Neighborhood    0.316372\n",
       "GarageFinish    0.415681\n",
       "BsmtQual        0.438642\n",
       "CentralAir      0.462954\n",
       "KitchenQual     0.477928\n",
       "ExterQual       0.504283\n",
       "SalePriceCat    1.000000\n",
       "Name: SalePriceCat, dtype: float64"
      ]
     },
     "execution_count": 53,
     "metadata": {},
     "output_type": "execute_result"
    }
   ],
   "source": [
    "cat_corr = associations(mod_cat_train)\n",
    "cat_corr = cat_corr.astype('float')\n",
    "sorted_cat_corrs = cat_corr['SalePriceCat'].sort_values()\n",
    "sorted_cat_corrs"
   ]
  },
  {
   "cell_type": "markdown",
   "id": "b9106be8",
   "metadata": {},
   "source": [
    "Looking at the correlations, 0.2 seems to be a good cutoff point for the categorical features."
   ]
  },
  {
   "cell_type": "code",
   "execution_count": 54,
   "id": "6fcf7a8d",
   "metadata": {},
   "outputs": [],
   "source": [
    "strong_cat_corrs = sorted_cat_corrs[sorted_cat_corrs > 0.2]\n",
    "cat_corrmat = associations(mod_cat_train[strong_cat_corrs.index])\n",
    "cat_corrmat = cat_corrmat.astype('float')"
   ]
  },
  {
   "cell_type": "code",
   "execution_count": 55,
   "id": "ff63132e",
   "metadata": {},
   "outputs": [
    {
     "data": {
      "image/png": "[encoded data removed]",
      "text/plain": [
       "<Figure size 576x576 with 2 Axes>"
      ]
     },
     "metadata": {
      "needs_background": "light"
     },
     "output_type": "display_data"
    }
   ],
   "source": [
    "## Association heatmap to identify linear features \n",
    "plt.figure(figsize=(8,8))\n",
    "sns.heatmap(cat_corrmat,\n",
    "            vmin=0,\n",
    "            center=0,\n",
    "            cmap='coolwarm');"
   ]
  },
  {
   "cell_type": "markdown",
   "id": "559ea0ba",
   "metadata": {},
   "source": [
    "From these associations, it seems like there is a linear relation between:\n",
    "* MSZoning and Neighborhood\n",
    "* GarageCond, GarageType, GarageQual and GarageFinish\n",
    "* BsmtFinType1 and BsmtQual\n",
    "\n",
    "Since Neighborhood has 25 unique values, we can use MSZoning instead. From the garage features, we can use GarageQual since it seems to summarize all the different qualities in a single feature. Similarly for the basement features, we can use BsmtQual."
   ]
  },
  {
   "cell_type": "code",
   "execution_count": 56,
   "id": "5035ddfe",
   "metadata": {},
   "outputs": [],
   "source": [
    "mod_cat_train = mod_cat_train.drop(sorted_cat_corrs[sorted_cat_corrs < 0.2].index, axis=1)"
   ]
  },
  {
   "cell_type": "code",
   "execution_count": 57,
   "id": "892f715c",
   "metadata": {},
   "outputs": [],
   "source": [
    "drop_cat_cols = ['Neighborhood','GarageCond','GarageType','GarageQual','BsmtFinType1','BsmtExposure']\n",
    "mod_cat_train = mod_cat_train.drop(drop_cat_cols, axis=1)"
   ]
  },
  {
   "cell_type": "code",
   "execution_count": 58,
   "id": "83b6e9a8",
   "metadata": {},
   "outputs": [
    {
     "name": "stdout",
     "output_type": "stream",
     "text": [
      "<class 'pandas.core.frame.DataFrame'>\n",
      "Int64Index: 1451 entries, 0 to 1459\n",
      "Data columns (total 12 columns):\n",
      " #   Column        Non-Null Count  Dtype   \n",
      "---  ------        --------------  -----   \n",
      " 0   MSZoning      1451 non-null   category\n",
      " 1   LotShape      1451 non-null   category\n",
      " 2   MasVnrType    1451 non-null   category\n",
      " 3   ExterQual     1451 non-null   category\n",
      " 4   Foundation    1451 non-null   category\n",
      " 5   BsmtQual      1451 non-null   category\n",
      " 6   HeatingQC     1451 non-null   category\n",
      " 7   CentralAir    1451 non-null   category\n",
      " 8   KitchenQual   1451 non-null   category\n",
      " 9   FireplaceQu   1451 non-null   category\n",
      " 10  GarageFinish  1451 non-null   category\n",
      " 11  PavedDrive    1451 non-null   category\n",
      "dtypes: category(12)\n",
      "memory usage: 30.6 KB\n"
     ]
    }
   ],
   "source": [
    "mod_cat_train = mod_cat_train.drop('SalePriceCat', axis=1)\n",
    "cat_cols_to_keep = mod_cat_train.columns\n",
    "mod_cat_train.info()"
   ]
  },
  {
   "cell_type": "code",
   "execution_count": 59,
   "id": "1d653dfd",
   "metadata": {},
   "outputs": [
    {
     "data": {
      "text/html": [
       "<div>\n",
       "<style scoped>\n",
       "    .dataframe tbody tr th:only-of-type {\n",
       "        vertical-align: middle;\n",
       "    }\n",
       "\n",
       "    .dataframe tbody tr th {\n",
       "        vertical-align: top;\n",
       "    }\n",
       "\n",
       "    .dataframe thead th {\n",
       "        text-align: right;\n",
       "    }\n",
       "</style>\n",
       "<table border=\"1\" class=\"dataframe\">\n",
       "  <thead>\n",
       "    <tr style=\"text-align: right;\">\n",
       "      <th></th>\n",
       "      <th>OverallQual</th>\n",
       "      <th>MasVnrArea</th>\n",
       "      <th>TotalBsmtSF</th>\n",
       "      <th>GrLivArea</th>\n",
       "      <th>FullBath</th>\n",
       "      <th>Fireplaces</th>\n",
       "      <th>GarageArea</th>\n",
       "      <th>SalePrice</th>\n",
       "      <th>YrBeforeSale</th>\n",
       "      <th>YrSinceRemod</th>\n",
       "      <th>...</th>\n",
       "      <th>FireplaceQu_No</th>\n",
       "      <th>FireplaceQu_Po</th>\n",
       "      <th>FireplaceQu_TA</th>\n",
       "      <th>GarageFinish_Fin</th>\n",
       "      <th>GarageFinish_No</th>\n",
       "      <th>GarageFinish_RFn</th>\n",
       "      <th>GarageFinish_Unf</th>\n",
       "      <th>PavedDrive_N</th>\n",
       "      <th>PavedDrive_P</th>\n",
       "      <th>PavedDrive_Y</th>\n",
       "    </tr>\n",
       "  </thead>\n",
       "  <tbody>\n",
       "    <tr>\n",
       "      <th>0</th>\n",
       "      <td>7</td>\n",
       "      <td>196.0</td>\n",
       "      <td>856</td>\n",
       "      <td>1710</td>\n",
       "      <td>2</td>\n",
       "      <td>0</td>\n",
       "      <td>548</td>\n",
       "      <td>208500</td>\n",
       "      <td>5</td>\n",
       "      <td>5</td>\n",
       "      <td>...</td>\n",
       "      <td>1</td>\n",
       "      <td>0</td>\n",
       "      <td>0</td>\n",
       "      <td>0</td>\n",
       "      <td>0</td>\n",
       "      <td>1</td>\n",
       "      <td>0</td>\n",
       "      <td>0</td>\n",
       "      <td>0</td>\n",
       "      <td>1</td>\n",
       "    </tr>\n",
       "    <tr>\n",
       "      <th>1</th>\n",
       "      <td>6</td>\n",
       "      <td>0.0</td>\n",
       "      <td>1262</td>\n",
       "      <td>1262</td>\n",
       "      <td>2</td>\n",
       "      <td>1</td>\n",
       "      <td>460</td>\n",
       "      <td>181500</td>\n",
       "      <td>31</td>\n",
       "      <td>31</td>\n",
       "      <td>...</td>\n",
       "      <td>0</td>\n",
       "      <td>0</td>\n",
       "      <td>1</td>\n",
       "      <td>0</td>\n",
       "      <td>0</td>\n",
       "      <td>1</td>\n",
       "      <td>0</td>\n",
       "      <td>0</td>\n",
       "      <td>0</td>\n",
       "      <td>1</td>\n",
       "    </tr>\n",
       "    <tr>\n",
       "      <th>2</th>\n",
       "      <td>7</td>\n",
       "      <td>162.0</td>\n",
       "      <td>920</td>\n",
       "      <td>1786</td>\n",
       "      <td>2</td>\n",
       "      <td>1</td>\n",
       "      <td>608</td>\n",
       "      <td>223500</td>\n",
       "      <td>7</td>\n",
       "      <td>6</td>\n",
       "      <td>...</td>\n",
       "      <td>0</td>\n",
       "      <td>0</td>\n",
       "      <td>1</td>\n",
       "      <td>0</td>\n",
       "      <td>0</td>\n",
       "      <td>1</td>\n",
       "      <td>0</td>\n",
       "      <td>0</td>\n",
       "      <td>0</td>\n",
       "      <td>1</td>\n",
       "    </tr>\n",
       "    <tr>\n",
       "      <th>3</th>\n",
       "      <td>7</td>\n",
       "      <td>0.0</td>\n",
       "      <td>756</td>\n",
       "      <td>1717</td>\n",
       "      <td>1</td>\n",
       "      <td>1</td>\n",
       "      <td>642</td>\n",
       "      <td>140000</td>\n",
       "      <td>91</td>\n",
       "      <td>36</td>\n",
       "      <td>...</td>\n",
       "      <td>0</td>\n",
       "      <td>0</td>\n",
       "      <td>0</td>\n",
       "      <td>0</td>\n",
       "      <td>0</td>\n",
       "      <td>0</td>\n",
       "      <td>1</td>\n",
       "      <td>0</td>\n",
       "      <td>0</td>\n",
       "      <td>1</td>\n",
       "    </tr>\n",
       "    <tr>\n",
       "      <th>4</th>\n",
       "      <td>8</td>\n",
       "      <td>350.0</td>\n",
       "      <td>1145</td>\n",
       "      <td>2198</td>\n",
       "      <td>2</td>\n",
       "      <td>1</td>\n",
       "      <td>836</td>\n",
       "      <td>250000</td>\n",
       "      <td>8</td>\n",
       "      <td>8</td>\n",
       "      <td>...</td>\n",
       "      <td>0</td>\n",
       "      <td>0</td>\n",
       "      <td>1</td>\n",
       "      <td>0</td>\n",
       "      <td>0</td>\n",
       "      <td>1</td>\n",
       "      <td>0</td>\n",
       "      <td>0</td>\n",
       "      <td>0</td>\n",
       "      <td>1</td>\n",
       "    </tr>\n",
       "  </tbody>\n",
       "</table>\n",
       "<p>5 rows × 63 columns</p>\n",
       "</div>"
      ],
      "text/plain": [
       "   OverallQual  MasVnrArea  TotalBsmtSF  GrLivArea  FullBath  Fireplaces  \\\n",
       "0            7       196.0          856       1710         2           0   \n",
       "1            6         0.0         1262       1262         2           1   \n",
       "2            7       162.0          920       1786         2           1   \n",
       "3            7         0.0          756       1717         1           1   \n",
       "4            8       350.0         1145       2198         2           1   \n",
       "\n",
       "   GarageArea  SalePrice  YrBeforeSale  YrSinceRemod  ...  FireplaceQu_No  \\\n",
       "0         548     208500             5             5  ...               1   \n",
       "1         460     181500            31            31  ...               0   \n",
       "2         608     223500             7             6  ...               0   \n",
       "3         642     140000            91            36  ...               0   \n",
       "4         836     250000             8             8  ...               0   \n",
       "\n",
       "   FireplaceQu_Po  FireplaceQu_TA  GarageFinish_Fin  GarageFinish_No  \\\n",
       "0               0               0                 0                0   \n",
       "1               0               1                 0                0   \n",
       "2               0               1                 0                0   \n",
       "3               0               0                 0                0   \n",
       "4               0               1                 0                0   \n",
       "\n",
       "   GarageFinish_RFn  GarageFinish_Unf  PavedDrive_N  PavedDrive_P  \\\n",
       "0                 1                 0             0             0   \n",
       "1                 1                 0             0             0   \n",
       "2                 1                 0             0             0   \n",
       "3                 0                 1             0             0   \n",
       "4                 1                 0             0             0   \n",
       "\n",
       "   PavedDrive_Y  \n",
       "0             1  \n",
       "1             1  \n",
       "2             1  \n",
       "3             1  \n",
       "4             1  \n",
       "\n",
       "[5 rows x 63 columns]"
      ]
     },
     "execution_count": 59,
     "metadata": {},
     "output_type": "execute_result"
    }
   ],
   "source": [
    "## Create dummy columns and add back to the dataframe!\n",
    "transform_train = pd.concat([transform_train, pd.get_dummies(mod_cat_train)], axis=1)\n",
    "transform_train.head()"
   ]
  },
  {
   "cell_type": "code",
   "execution_count": 60,
   "id": "163fe7e1",
   "metadata": {},
   "outputs": [
    {
     "data": {
      "text/plain": [
       "(1451, 63)"
      ]
     },
     "execution_count": 60,
     "metadata": {},
     "output_type": "execute_result"
    }
   ],
   "source": [
    "transform_train.shape"
   ]
  },
  {
   "cell_type": "markdown",
   "id": "b4e1e791",
   "metadata": {},
   "source": [
    "We have to apply the same transformation to the test dataset:"
   ]
  },
  {
   "cell_type": "code",
   "execution_count": 61,
   "id": "b26b3d4e",
   "metadata": {},
   "outputs": [
    {
     "data": {
      "text/html": [
       "<div>\n",
       "<style scoped>\n",
       "    .dataframe tbody tr th:only-of-type {\n",
       "        vertical-align: middle;\n",
       "    }\n",
       "\n",
       "    .dataframe tbody tr th {\n",
       "        vertical-align: top;\n",
       "    }\n",
       "\n",
       "    .dataframe thead th {\n",
       "        text-align: right;\n",
       "    }\n",
       "</style>\n",
       "<table border=\"1\" class=\"dataframe\">\n",
       "  <thead>\n",
       "    <tr style=\"text-align: right;\">\n",
       "      <th></th>\n",
       "      <th>OverallQual</th>\n",
       "      <th>MasVnrArea</th>\n",
       "      <th>TotalBsmtSF</th>\n",
       "      <th>GrLivArea</th>\n",
       "      <th>FullBath</th>\n",
       "      <th>Fireplaces</th>\n",
       "      <th>GarageArea</th>\n",
       "      <th>YrBeforeSale</th>\n",
       "      <th>YrSinceRemod</th>\n",
       "      <th>MSZoning_C (all)</th>\n",
       "      <th>...</th>\n",
       "      <th>FireplaceQu_No</th>\n",
       "      <th>FireplaceQu_Po</th>\n",
       "      <th>FireplaceQu_TA</th>\n",
       "      <th>GarageFinish_Fin</th>\n",
       "      <th>GarageFinish_No</th>\n",
       "      <th>GarageFinish_RFn</th>\n",
       "      <th>GarageFinish_Unf</th>\n",
       "      <th>PavedDrive_N</th>\n",
       "      <th>PavedDrive_P</th>\n",
       "      <th>PavedDrive_Y</th>\n",
       "    </tr>\n",
       "  </thead>\n",
       "  <tbody>\n",
       "    <tr>\n",
       "      <th>0</th>\n",
       "      <td>5</td>\n",
       "      <td>0.0</td>\n",
       "      <td>882.0</td>\n",
       "      <td>896</td>\n",
       "      <td>1</td>\n",
       "      <td>0</td>\n",
       "      <td>730.0</td>\n",
       "      <td>49</td>\n",
       "      <td>49</td>\n",
       "      <td>0</td>\n",
       "      <td>...</td>\n",
       "      <td>1</td>\n",
       "      <td>0</td>\n",
       "      <td>0</td>\n",
       "      <td>0</td>\n",
       "      <td>0</td>\n",
       "      <td>0</td>\n",
       "      <td>1</td>\n",
       "      <td>0</td>\n",
       "      <td>0</td>\n",
       "      <td>1</td>\n",
       "    </tr>\n",
       "    <tr>\n",
       "      <th>1</th>\n",
       "      <td>6</td>\n",
       "      <td>108.0</td>\n",
       "      <td>1329.0</td>\n",
       "      <td>1329</td>\n",
       "      <td>1</td>\n",
       "      <td>0</td>\n",
       "      <td>312.0</td>\n",
       "      <td>52</td>\n",
       "      <td>52</td>\n",
       "      <td>0</td>\n",
       "      <td>...</td>\n",
       "      <td>1</td>\n",
       "      <td>0</td>\n",
       "      <td>0</td>\n",
       "      <td>0</td>\n",
       "      <td>0</td>\n",
       "      <td>0</td>\n",
       "      <td>1</td>\n",
       "      <td>0</td>\n",
       "      <td>0</td>\n",
       "      <td>1</td>\n",
       "    </tr>\n",
       "    <tr>\n",
       "      <th>2</th>\n",
       "      <td>5</td>\n",
       "      <td>0.0</td>\n",
       "      <td>928.0</td>\n",
       "      <td>1629</td>\n",
       "      <td>2</td>\n",
       "      <td>1</td>\n",
       "      <td>482.0</td>\n",
       "      <td>13</td>\n",
       "      <td>12</td>\n",
       "      <td>0</td>\n",
       "      <td>...</td>\n",
       "      <td>0</td>\n",
       "      <td>0</td>\n",
       "      <td>1</td>\n",
       "      <td>1</td>\n",
       "      <td>0</td>\n",
       "      <td>0</td>\n",
       "      <td>0</td>\n",
       "      <td>0</td>\n",
       "      <td>0</td>\n",
       "      <td>1</td>\n",
       "    </tr>\n",
       "    <tr>\n",
       "      <th>3</th>\n",
       "      <td>6</td>\n",
       "      <td>20.0</td>\n",
       "      <td>926.0</td>\n",
       "      <td>1604</td>\n",
       "      <td>2</td>\n",
       "      <td>1</td>\n",
       "      <td>470.0</td>\n",
       "      <td>12</td>\n",
       "      <td>12</td>\n",
       "      <td>0</td>\n",
       "      <td>...</td>\n",
       "      <td>0</td>\n",
       "      <td>0</td>\n",
       "      <td>0</td>\n",
       "      <td>1</td>\n",
       "      <td>0</td>\n",
       "      <td>0</td>\n",
       "      <td>0</td>\n",
       "      <td>0</td>\n",
       "      <td>0</td>\n",
       "      <td>1</td>\n",
       "    </tr>\n",
       "    <tr>\n",
       "      <th>4</th>\n",
       "      <td>8</td>\n",
       "      <td>0.0</td>\n",
       "      <td>1280.0</td>\n",
       "      <td>1280</td>\n",
       "      <td>2</td>\n",
       "      <td>0</td>\n",
       "      <td>506.0</td>\n",
       "      <td>18</td>\n",
       "      <td>18</td>\n",
       "      <td>0</td>\n",
       "      <td>...</td>\n",
       "      <td>1</td>\n",
       "      <td>0</td>\n",
       "      <td>0</td>\n",
       "      <td>0</td>\n",
       "      <td>0</td>\n",
       "      <td>1</td>\n",
       "      <td>0</td>\n",
       "      <td>0</td>\n",
       "      <td>0</td>\n",
       "      <td>1</td>\n",
       "    </tr>\n",
       "  </tbody>\n",
       "</table>\n",
       "<p>5 rows × 62 columns</p>\n",
       "</div>"
      ],
      "text/plain": [
       "   OverallQual  MasVnrArea  TotalBsmtSF  GrLivArea  FullBath  Fireplaces  \\\n",
       "0            5         0.0        882.0        896         1           0   \n",
       "1            6       108.0       1329.0       1329         1           0   \n",
       "2            5         0.0        928.0       1629         2           1   \n",
       "3            6        20.0        926.0       1604         2           1   \n",
       "4            8         0.0       1280.0       1280         2           0   \n",
       "\n",
       "   GarageArea  YrBeforeSale  YrSinceRemod  MSZoning_C (all)  ...  \\\n",
       "0       730.0            49            49                 0  ...   \n",
       "1       312.0            52            52                 0  ...   \n",
       "2       482.0            13            12                 0  ...   \n",
       "3       470.0            12            12                 0  ...   \n",
       "4       506.0            18            18                 0  ...   \n",
       "\n",
       "   FireplaceQu_No  FireplaceQu_Po  FireplaceQu_TA  GarageFinish_Fin  \\\n",
       "0               1               0               0                 0   \n",
       "1               1               0               0                 0   \n",
       "2               0               0               1                 1   \n",
       "3               0               0               0                 1   \n",
       "4               1               0               0                 0   \n",
       "\n",
       "   GarageFinish_No  GarageFinish_RFn  GarageFinish_Unf  PavedDrive_N  \\\n",
       "0                0                 0                 1             0   \n",
       "1                0                 0                 1             0   \n",
       "2                0                 0                 0             0   \n",
       "3                0                 0                 0             0   \n",
       "4                0                 1                 0             0   \n",
       "\n",
       "   PavedDrive_P  PavedDrive_Y  \n",
       "0             0             1  \n",
       "1             0             1  \n",
       "2             0             1  \n",
       "3             0             1  \n",
       "4             0             1  \n",
       "\n",
       "[5 rows x 62 columns]"
      ]
     },
     "execution_count": 61,
     "metadata": {},
     "output_type": "execute_result"
    }
   ],
   "source": [
    "cols_to_keep = num_cols_to_keep.tolist() + cat_cols_to_keep.tolist()\n",
    "cols_to_keep.remove('SalePrice')\n",
    "mod_test = test[cols_to_keep]\n",
    "text_cols = mod_test.select_dtypes(include=['object'])\n",
    "cat_test = mod_test.copy()\n",
    "for col in text_cols:\n",
    "    cat_test[col] = mod_test[col].astype('category')\n",
    "    \n",
    "transform_test = pd.concat([cat_test, \n",
    "                            pd.get_dummies(cat_test.select_dtypes(include=['category']))], axis=1).drop(text_cols,axis=1)\n",
    "transform_test.head()"
   ]
  },
  {
   "cell_type": "code",
   "execution_count": 62,
   "id": "d2a1d3fa",
   "metadata": {},
   "outputs": [
    {
     "data": {
      "text/plain": [
       "(1459, 62)"
      ]
     },
     "execution_count": 62,
     "metadata": {},
     "output_type": "execute_result"
    }
   ],
   "source": [
    "transform_test.shape"
   ]
  },
  {
   "cell_type": "markdown",
   "id": "31574ce0",
   "metadata": {},
   "source": [
    "## Linear Regression"
   ]
  },
  {
   "cell_type": "markdown",
   "id": "37ab0f28",
   "metadata": {},
   "source": [
    "Now that we have the transformed datasets for training and test data, we can train a linear model. As discussed previously, Kaggle evaluates the submissions on Root-Mean-Squared-Error (RMSE) between the logarithm of the predicted value and the logarithm of the observed sales price:"
   ]
  },
  {
   "cell_type": "code",
   "execution_count": 63,
   "id": "a62eb387",
   "metadata": {},
   "outputs": [],
   "source": [
    "y = np.log(transform_train.SalePrice)\n",
    "X = transform_train.drop(['SalePrice'], axis=1)"
   ]
  },
  {
   "cell_type": "markdown",
   "id": "5741b15c",
   "metadata": {},
   "source": [
    "Now we can partition the training set with a fixed random state for reproducible results:"
   ]
  },
  {
   "cell_type": "code",
   "execution_count": 64,
   "id": "60351c65",
   "metadata": {},
   "outputs": [],
   "source": [
    "from sklearn.model_selection import train_test_split\n",
    "X_train, X_test, y_train, y_test = train_test_split(\n",
    "                          X, y, random_state=42, test_size=.33)"
   ]
  },
  {
   "cell_type": "markdown",
   "id": "2d60e333",
   "metadata": {},
   "source": [
    "Next we can fit the model and check the R^2 value to see how the model fits the data:"
   ]
  },
  {
   "cell_type": "code",
   "execution_count": 65,
   "id": "c57bcb31",
   "metadata": {},
   "outputs": [
    {
     "name": "stdout",
     "output_type": "stream",
     "text": [
      "R^2 is: \n",
      " 0.8670306087108623\n"
     ]
    }
   ],
   "source": [
    "from sklearn import linear_model\n",
    "lr = linear_model.LinearRegression()\n",
    "model = lr.fit(X_train, y_train)\n",
    "print (\"R^2 is: \\n\", model.score(X_test, y_test))"
   ]
  },
  {
   "cell_type": "markdown",
   "id": "acabae86",
   "metadata": {},
   "source": [
    "So the model explains approximately 87% of the variance in our target variable. Next we can make predictions using the holdout data:"
   ]
  },
  {
   "cell_type": "code",
   "execution_count": 66,
   "id": "32cdf134",
   "metadata": {},
   "outputs": [
    {
     "name": "stdout",
     "output_type": "stream",
     "text": [
      "RMSE is: \n",
      " 0.018350952963703926\n"
     ]
    }
   ],
   "source": [
    "from sklearn.metrics import mean_squared_error\n",
    "predictions = model.predict(X_test)\n",
    "print ('RMSE is: \\n', mean_squared_error(y_test, predictions))"
   ]
  },
  {
   "cell_type": "markdown",
   "id": "9825604a",
   "metadata": {},
   "source": [
    "If we plot the actual prices vs. predicted prices, we can see how much the predictions deviate from the actual prices:"
   ]
  },
  {
   "cell_type": "code",
   "execution_count": 67,
   "id": "cfbcfb35",
   "metadata": {},
   "outputs": [
    {
     "data": {
      "image/png": "[encoded data removed]",
      "text/plain": [
       "<Figure size 432x288 with 1 Axes>"
      ]
     },
     "metadata": {
      "needs_background": "light"
     },
     "output_type": "display_data"
    }
   ],
   "source": [
    "actual_values = y_test\n",
    "plt.scatter(predictions, actual_values, color='b')\n",
    "plt.axline((0, 0), slope=1, color='r')\n",
    "plt.xlabel('Predicted Price')\n",
    "plt.ylabel('Actual Price')\n",
    "plt.title('Linear Regression Model')\n",
    "plt.xlim(10, 14)\n",
    "plt.ylim(10, 14)\n",
    "plt.show()"
   ]
  },
  {
   "cell_type": "markdown",
   "id": "c40e4ff2",
   "metadata": {},
   "source": [
    "## Result Submission"
   ]
  },
  {
   "cell_type": "markdown",
   "id": "8d922f24",
   "metadata": {},
   "source": [
    "The file we need to submit to Kaggle should have the form:\n",
    "\n",
    "    Id,SalePrice\n",
    "    1461,169000.1\n",
    "    1462,187724.1233"
   ]
  },
  {
   "cell_type": "code",
   "execution_count": 68,
   "id": "5093b118",
   "metadata": {},
   "outputs": [],
   "source": [
    "submission = pd.DataFrame()\n",
    "submission['Id'] = test.Id\n",
    "predictions = model.predict(transform_test)"
   ]
  },
  {
   "cell_type": "markdown",
   "id": "0fe07f8b",
   "metadata": {},
   "source": [
    "Now we’ll transform the predictions to the correct form:"
   ]
  },
  {
   "cell_type": "code",
   "execution_count": 69,
   "id": "f31ac664",
   "metadata": {},
   "outputs": [
    {
     "name": "stdout",
     "output_type": "stream",
     "text": [
      "Original predictions are: \n",
      " [11.68143111 11.89642244 12.07220639 12.11331022 12.20455622] \n",
      "\n",
      "Final predictions are: \n",
      " [118353.49033358 146740.71190989 174941.40854101 182282.00006313\n",
      " 199696.94403487]\n"
     ]
    }
   ],
   "source": [
    "final_predictions = np.exp(predictions)\n",
    "print (\"Original predictions are: \\n\", predictions[:5], \"\\n\")\n",
    "print (\"Final predictions are: \\n\", final_predictions[:5])"
   ]
  },
  {
   "cell_type": "markdown",
   "id": "72fd5f13",
   "metadata": {},
   "source": [
    "Now that we have the prices in the correct scale, we can fill the submission data:"
   ]
  },
  {
   "cell_type": "code",
   "execution_count": 70,
   "id": "f38d281a",
   "metadata": {},
   "outputs": [
    {
     "data": {
      "text/html": [
       "<div>\n",
       "<style scoped>\n",
       "    .dataframe tbody tr th:only-of-type {\n",
       "        vertical-align: middle;\n",
       "    }\n",
       "\n",
       "    .dataframe tbody tr th {\n",
       "        vertical-align: top;\n",
       "    }\n",
       "\n",
       "    .dataframe thead th {\n",
       "        text-align: right;\n",
       "    }\n",
       "</style>\n",
       "<table border=\"1\" class=\"dataframe\">\n",
       "  <thead>\n",
       "    <tr style=\"text-align: right;\">\n",
       "      <th></th>\n",
       "      <th>Id</th>\n",
       "      <th>SalePrice</th>\n",
       "    </tr>\n",
       "  </thead>\n",
       "  <tbody>\n",
       "    <tr>\n",
       "      <th>0</th>\n",
       "      <td>1461</td>\n",
       "      <td>118353.490334</td>\n",
       "    </tr>\n",
       "    <tr>\n",
       "      <th>1</th>\n",
       "      <td>1462</td>\n",
       "      <td>146740.711910</td>\n",
       "    </tr>\n",
       "    <tr>\n",
       "      <th>2</th>\n",
       "      <td>1463</td>\n",
       "      <td>174941.408541</td>\n",
       "    </tr>\n",
       "    <tr>\n",
       "      <th>3</th>\n",
       "      <td>1464</td>\n",
       "      <td>182282.000063</td>\n",
       "    </tr>\n",
       "    <tr>\n",
       "      <th>4</th>\n",
       "      <td>1465</td>\n",
       "      <td>199696.944035</td>\n",
       "    </tr>\n",
       "  </tbody>\n",
       "</table>\n",
       "</div>"
      ],
      "text/plain": [
       "     Id      SalePrice\n",
       "0  1461  118353.490334\n",
       "1  1462  146740.711910\n",
       "2  1463  174941.408541\n",
       "3  1464  182282.000063\n",
       "4  1465  199696.944035"
      ]
     },
     "execution_count": 70,
     "metadata": {},
     "output_type": "execute_result"
    }
   ],
   "source": [
    "submission['SalePrice'] = final_predictions\n",
    "submission.head()"
   ]
  },
  {
   "cell_type": "code",
   "execution_count": 71,
   "id": "0cfbb7a6",
   "metadata": {},
   "outputs": [],
   "source": [
    "submission.to_csv('submission1.csv', index=False)"
   ]
  },
  {
   "cell_type": "markdown",
   "id": "1a90e4be",
   "metadata": {},
   "source": [
    "This submission scored 0.155 on the test data which is placed 3424 out of 5375 at the time of this writing. So it could be regarded as an average result."
   ]
  },
  {
   "cell_type": "markdown",
   "id": "8b0e06ea",
   "metadata": {},
   "source": [
    "## Random Forest Regressor"
   ]
  },
  {
   "cell_type": "markdown",
   "id": "43bf1bf4",
   "metadata": {},
   "source": [
    "Next we will try to improve the result by using the random forest regressor algorithm. We can use grid search to train using different combinations of hyperparameters to find the best performing model:"
   ]
  },
  {
   "cell_type": "code",
   "execution_count": 72,
   "id": "ba96d15c",
   "metadata": {},
   "outputs": [
    {
     "name": "stdout",
     "output_type": "stream",
     "text": [
      "{'max_depth': 10, 'max_features': 'auto', 'min_samples_split': 2, 'n_estimators': 100}\n",
      "0.8637114916296549\n"
     ]
    }
   ],
   "source": [
    "from sklearn.ensemble import RandomForestRegressor\n",
    "from sklearn.model_selection import GridSearchCV\n",
    "\n",
    "rf = RandomForestRegressor()\n",
    "\n",
    "hyperparameters = {\n",
    "    \"n_estimators\": [50, 100],\n",
    "    \"max_depth\": [2, 5, 10],\n",
    "    \"max_features\": [\"auto\", \"sqrt\", \"log2\"],\n",
    "    \"min_samples_split\": [2, 5, 10]\n",
    "}\n",
    "\n",
    "grid = GridSearchCV(rf, param_grid=hyperparameters, cv=10)\n",
    "model = grid.fit(X_train, y_train)\n",
    "print(grid.best_params_)\n",
    "print(grid.best_score_)"
   ]
  },
  {
   "cell_type": "markdown",
   "id": "0b07706c",
   "metadata": {},
   "source": [
    "We can make predictions using this model:"
   ]
  },
  {
   "cell_type": "code",
   "execution_count": 73,
   "id": "ef94c614",
   "metadata": {},
   "outputs": [
    {
     "name": "stdout",
     "output_type": "stream",
     "text": [
      "RMSE is: \n",
      " 0.02236039603858489\n"
     ]
    }
   ],
   "source": [
    "predictions = model.predict(X_test)\n",
    "print ('RMSE is: \\n', mean_squared_error(y_test, predictions))"
   ]
  },
  {
   "cell_type": "code",
   "execution_count": 74,
   "id": "b4a63289",
   "metadata": {},
   "outputs": [
    {
     "data": {
      "image/png": "[encoded data removed]",
      "text/plain": [
       "<Figure size 432x288 with 1 Axes>"
      ]
     },
     "metadata": {
      "needs_background": "light"
     },
     "output_type": "display_data"
    }
   ],
   "source": [
    "actual_values = y_test\n",
    "plt.scatter(predictions, actual_values, color='b')\n",
    "plt.axline((0, 0), slope=1, color='r')\n",
    "plt.xlabel('Predicted Price')\n",
    "plt.ylabel('Actual Price')\n",
    "plt.title('Random Forest Regressor')\n",
    "plt.xlim(10, 14)\n",
    "plt.ylim(10, 14)\n",
    "plt.show()"
   ]
  },
  {
   "cell_type": "markdown",
   "id": "8d5835c3",
   "metadata": {},
   "source": [
    "As seen, the error is slightly larger than the one we got with linear regression. Nonetheless, we can submit the results to Kaggle to see how the model performs on the test data:"
   ]
  },
  {
   "cell_type": "code",
   "execution_count": 75,
   "id": "709258ad",
   "metadata": {},
   "outputs": [
    {
     "data": {
      "text/html": [
       "<div>\n",
       "<style scoped>\n",
       "    .dataframe tbody tr th:only-of-type {\n",
       "        vertical-align: middle;\n",
       "    }\n",
       "\n",
       "    .dataframe tbody tr th {\n",
       "        vertical-align: top;\n",
       "    }\n",
       "\n",
       "    .dataframe thead th {\n",
       "        text-align: right;\n",
       "    }\n",
       "</style>\n",
       "<table border=\"1\" class=\"dataframe\">\n",
       "  <thead>\n",
       "    <tr style=\"text-align: right;\">\n",
       "      <th></th>\n",
       "      <th>Id</th>\n",
       "      <th>SalePrice</th>\n",
       "    </tr>\n",
       "  </thead>\n",
       "  <tbody>\n",
       "    <tr>\n",
       "      <th>0</th>\n",
       "      <td>1461</td>\n",
       "      <td>125918.057429</td>\n",
       "    </tr>\n",
       "    <tr>\n",
       "      <th>1</th>\n",
       "      <td>1462</td>\n",
       "      <td>145775.837502</td>\n",
       "    </tr>\n",
       "    <tr>\n",
       "      <th>2</th>\n",
       "      <td>1463</td>\n",
       "      <td>177029.402154</td>\n",
       "    </tr>\n",
       "    <tr>\n",
       "      <th>3</th>\n",
       "      <td>1464</td>\n",
       "      <td>183125.870892</td>\n",
       "    </tr>\n",
       "    <tr>\n",
       "      <th>4</th>\n",
       "      <td>1465</td>\n",
       "      <td>209567.099327</td>\n",
       "    </tr>\n",
       "  </tbody>\n",
       "</table>\n",
       "</div>"
      ],
      "text/plain": [
       "     Id      SalePrice\n",
       "0  1461  125918.057429\n",
       "1  1462  145775.837502\n",
       "2  1463  177029.402154\n",
       "3  1464  183125.870892\n",
       "4  1465  209567.099327"
      ]
     },
     "execution_count": 75,
     "metadata": {},
     "output_type": "execute_result"
    }
   ],
   "source": [
    "submission2 = pd.DataFrame()\n",
    "submission2['Id'] = test.Id\n",
    "predictions = model.predict(transform_test)\n",
    "final_predictions = np.exp(predictions)\n",
    "submission2['SalePrice'] = final_predictions\n",
    "submission2.head()"
   ]
  },
  {
   "cell_type": "code",
   "execution_count": 76,
   "id": "388f71b0",
   "metadata": {},
   "outputs": [],
   "source": [
    "submission2.to_csv('submission2.csv', index=False)"
   ]
  },
  {
   "cell_type": "markdown",
   "id": "73de1e5d",
   "metadata": {},
   "source": [
    "This submission scored 0.157 on the test data, which is not an improvement over the linear regression model as predicted in the previous step."
   ]
  },
  {
   "cell_type": "markdown",
   "id": "ff6ea6ab",
   "metadata": {},
   "source": [
    "## Conclusions"
   ]
  },
  {
   "cell_type": "markdown",
   "id": "cf152c18",
   "metadata": {},
   "source": [
    "Using the Ames Housing dataset from Kaggle, we were able to practice feature engineering, feature selection and making predictions using a linear regression and a random forest regressor. For the random forest regressor, we employed grid search to identify the best hyperparameters. Along the way, we were able to implement a function to find associations between categorical features using the Cramer's V. \n",
    "\n",
    "For our selection of features, we have shown that the linear regression model works slightly better than the random forest algorithm. Since our goal with this project was to work on feature engineering techniques with both numerical and categorical data, we will not work further on the models to improve the accuracy. The results could be improved by going back to the feature selection and using different filtering criteria or transforming other features."
   ]
  }
 ],
 "metadata": {
  "kernelspec": {
   "display_name": "Python 3",
   "language": "python",
   "name": "python3"
  },
  "language_info": {
   "codemirror_mode": {
    "name": "ipython",
    "version": 3
   },
   "file_extension": ".py",
   "mimetype": "text/x-python",
   "name": "python",
   "nbconvert_exporter": "python",
   "pygments_lexer": "ipython3",
   "version": "3.8.8"
  }
 },
 "nbformat": 4,
 "nbformat_minor": 5
}
